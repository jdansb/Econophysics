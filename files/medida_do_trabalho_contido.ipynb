{
  "nbformat": 4,
  "nbformat_minor": 0,
  "metadata": {
    "colab": {
      "provenance": [],
      "include_colab_link": true
    },
    "kernelspec": {
      "name": "python3",
      "display_name": "Python 3"
    },
    "language_info": {
      "name": "python"
    }
  },
  "cells": [
    {
      "cell_type": "markdown",
      "metadata": {
        "id": "view-in-github",
        "colab_type": "text"
      },
      "source": [
        "<a href=\"https://colab.research.google.com/github/jdansb/Econophysics/blob/main/files/medida_do_trabalho_contido.ipynb\" target=\"_parent\"><img src=\"https://colab.research.google.com/assets/colab-badge.svg\" alt=\"Open In Colab\"/></a>"
      ]
    },
    {
      "cell_type": "markdown",
      "source": [
        "# Measure of Content Labor\n"
      ],
      "metadata": {
        "id": "82vagRwFyEZ9"
      }
    },
    {
      "cell_type": "markdown",
      "source": [
        "Although the focus of my work involves the use of microscopic models to investigate complex systems, econophysics is not limited to this. Among some of the works considered seminal in the field, the books by Farjoun and Machover stand out: *Laws of Chaos: A Probabilistic Approach to Political Economy* and *How Labor Powers the Global Economy*. The main idea in these works is that the economy should be treated statistically.\n",
        "\n",
        "The text of this chapter is taken from the appendix of the book *How Labor Powers the Global Economy*, where we aim to develop mathematical tools to analyze the labor embodied in commodities. Therefore, we are not presenting a model or law here, only a mathematical formalism for conducting analyses.\n"
      ],
      "metadata": {
        "id": "2s0fxfN2TgU3"
      }
    },
    {
      "cell_type": "markdown",
      "source": [
        "To begin, we need to define some properties of **labor content** (my translation of *Labor Content*):\n",
        "\n",
        "* The labor content of a collection of products is equal to the total number of hours of labor directly invested in their production, plus the proportional fraction of labor contained in the products involved in their production process.\n",
        "\n",
        "* The labor content of the net production of an entire economy, over a given period, is equal to the total number of hours worked during that period.\n",
        "\n",
        "Evidently, the second property is a consequence of the first, since, when we consider the entire net production of society, we necessarily also consider all production that was used in the production process. In this way, we are taking into account the production of society as a whole.\n",
        "\n",
        "Let us consider an economy with $m$ production units that are able, over a certain period of time (one year, for example), to produce a collection of products $B$. A part $B_{I}$ of these products will be consumed during the production process itself, thus resulting in a net product $B_{L}=B-B_{I}$.\n",
        "\n",
        "From the net product, a portion $B_{T}$ is allocated to workers—assuming that the other part of the net product $B_{C}$ is allocated to capitalists, so that $B_{L}=B_{T}+B_{C}$. The labor $L_{T}$ contained in $B_{T}$ will, in the same way, be a part of the total labor $L$ contained in the net product. Analogously, we can suppose that the remainder $L_{C}$ of the labor contained in the net product is the labor embodied in the products allocated to capitalists, so that $L=L_{T}+L_{C}$. We will call this the **partition of labor**, which will be denoted as:\n",
        "\n",
        "\\begin{equation}\n",
        "\\lambda=\\frac{L_{T}}{L}\n",
        "\\end{equation}\n"
      ],
      "metadata": {
        "id": "19pbQ17DwM_b"
      }
    },
    {
      "cell_type": "markdown",
      "source": [
        "In other words, only the fraction $\\lambda$ of the labor content in the net product is embodied in the product allocated to workers; the rest is appropriated by other sectors of society. Let us now classify all products into $d$ distinct types. We can then construct a vector $\\boldsymbol{b}=\\left(b_{1},\\dots,b_{d}\\right)$ that records the quantity of each type of product that makes up the net product. If we define a vector $\\boldsymbol{c}=\\left(c_{1},\\dots,c_{d}\\right)$ that describes the labor content per unit of each type of product, we can then calculate the total labor content in the net product as follows:\n",
        "\n",
        "\n",
        "\\begin{equation}\n",
        "L=\\boldsymbol{c}\\cdot\\boldsymbol{b}\n",
        "\\end{equation}\n",
        "\n",
        "If we construct a vector $\\boldsymbol{w}$ that represents the quantity of net products distributed to the workforce divided by the total labor employed by society, we have $\\frac{\\boldsymbol{b}_{T}}{L}=\\boldsymbol{w}$, where $\\boldsymbol{b}_{T}$ is the vector representing the portion of the net product allocated to workers. Evidently, the labor content in the net product allocated to workers will be:\n",
        "\n",
        "\n",
        "\\begin{equation}\n",
        "L_{T}=\\boldsymbol{c}\\cdot\\boldsymbol{b}_{T}=\\boldsymbol{c}\\cdot\\boldsymbol{w}L\n",
        "\\end{equation}\n",
        "\n",
        "Recall that $\\boldsymbol{c}$ does not depend on the quantity of goods in a given collection of goods, so:\n",
        "\n",
        "\n",
        "\\begin{equation}\n",
        "\\lambda=\\frac{L_{T}}{L}=\\frac{\\boldsymbol{c}\\cdot\\boldsymbol{w}L}{L}=\\boldsymbol{c}\\boldsymbol{w}\n",
        "\\end{equation}"
      ],
      "metadata": {
        "id": "4-A3r3tvyfeQ"
      }
    },
    {
      "cell_type": "markdown",
      "source": [
        "Now let us connect the products distributed to the workforce with the products produced across the $m$ distinct production units. Let us consider that firm $i$ employs $x_{i}$ hours of labor directly in a given year, and let $\\boldsymbol{a}_{i}$ be a vector specifying the quantity of each type of product used per hour of labor directly employed by the firm. Then the products consumed by a firm over the year are $\\boldsymbol{a}_{i}x_{i}$. For example, if we have only two products, we would have for a firm $i$:\n",
        "\n",
        "\n",
        "\\begin{equation}\n",
        "\\boldsymbol{a}_{i}=\\left(a_{1i},a_{2i}\\right),\\quad\\boldsymbol{b}_{I_{i}}=x_{i}\\boldsymbol{a}_{i}=\\left(x_{i}a_{i1},x_{i}a_{i2}\\right)\n",
        "\\end{equation}\n",
        "\n",
        "We can then construct a matrix $A$ where each column $j$ is a column vector $\\boldsymbol{a}_{i}$ indicating the consumption of products by firm $i$ per hour of labor employed. That is, row $i$ indicates the consumption of product $i$ by each firm, and column $j$ indicates the consumption of each product by firm $j$. For example, if we have two firms with two types of products, then:\n",
        "\n",
        "\\begin{equation}\n",
        "\\boldsymbol{A}=\\left[\\begin{array}{cc}\n",
        "\\boldsymbol{a}_{1} & \\boldsymbol{a}_{2}\\end{array}\\right]=\\left[\\begin{array}{cc}\n",
        "a_{11} & a_{12}\\\\\n",
        "a_{21} & a_{22}\n",
        "\\end{array}\\right]\n",
        "\\end{equation}\n",
        "\n",
        "Thus, we can obtain the vector $\\boldsymbol{b}_{I}$ representing the basket of products consumed during the production process over the course of a year by using a matrix with components $a_{ij}$:\n",
        "\n",
        "\n",
        "\\begin{align}\n",
        "\\boldsymbol{A}\\boldsymbol{x} & =\\left[\\begin{array}{cc}\n",
        "a_{11} & a_{12}\\\\\n",
        "a_{21} & a_{22}\n",
        "\\end{array}\\right]\\left[\\begin{array}{c}\n",
        "x_{1}\\\\\n",
        "x_{2}\n",
        "\\end{array}\\right]\\\\\n",
        " & =\\left[a_{11}x_{1}+a_{12}x_{2},a_{21}x_{1}+a_{22}x_{2}\\right]\\\\\n",
        " & =\\left[a_{11}x_{1},a_{21}x_{1}\\right]+\\left[a_{12}x_{2},a_{22}x_{2}\\right]\\\\\n",
        " & =\\left[a_{11},a_{21}\\right]x_{1}+\\left[a_{12},a_{22}\\right]x_{2}\\\\\n",
        " & =\\boldsymbol{a}_{1}x_{1}+\\boldsymbol{a}_{2}x_{2}\\\\\n",
        " & =\\boldsymbol{b}_{I}\n",
        "\\end{align}\n",
        "\n",
        "This calculation can be easily generalized for any number $d$ of product types and $m$ firms, where $\\boldsymbol{x}$ is a column vector of dimension $m$, and $A$ is a matrix of dimension $d\\times m$:\n",
        "\n",
        "\n",
        "\\begin{equation}\n",
        "\\boldsymbol{A}\\boldsymbol{x}=\\left[\\begin{array}{ccc}\n",
        "a_{11} & \\dots & a_{1m}\\\\\n",
        "\\vdots & \\ddots & \\vdots\\\\\n",
        "a_{d1} & \\dots & a_{dm}\n",
        "\\end{array}\\right]\\left[\\begin{array}{c}\n",
        "x_{1}\\\\\n",
        "\\vdots\\\\\n",
        "x_{m}\n",
        "\\end{array}\\right]\n",
        "\\end{equation}\n",
        "\n",
        "If $\\boldsymbol{q}$ is the vector denoting gross production in a year, then it is easy to see that:\n",
        "\n",
        "\n",
        "\\begin{equation}\n",
        "\\boldsymbol{b}=\\boldsymbol{q}-\\boldsymbol{b}_{I}\\rightarrow\\boldsymbol{q}=\\boldsymbol{b}-\\boldsymbol{A}\\boldsymbol{x}\n",
        "\\end{equation}"
      ],
      "metadata": {
        "id": "_2LB0kxJ1Rt7"
      }
    },
    {
      "cell_type": "markdown",
      "source": [
        "Denoting the vector of products produced by firm $i$ over the year as $\\boldsymbol{q}_{i}=\\left[q_{i1},\\dots,q_{id}\\right]$, we define that firm $i$ produces $p_{ij}q_{j}$ units of type $j$, i.e., $q_{ij}=p_{ij}q_{j}$, where $p_{ij}$ is the proportion in which firm $i$ contributes to the total production of product $j$ in the entire economy, given by the component $q_{j}$ of the vector $\\boldsymbol{q}$. For example, if firm $i$ produces 100\\% of product $j$, then simply $p_{ij}=1$ and $q_{ji}=q_{j}$, and for any other firm different from $i$ we have $q_{ji}=p_{ij}=0$.\n",
        "\n",
        "A firm $i$ directly employs $x_{i}$ units of labor to produce $d_{i}$ different types of products. Then the quantity $l_{ij}=x_{i}/q_{ij}$ gives the number of hours of labor that must be directly employed by firm $i$ to produce one unit of product type $j$. We can also rewrite $l_{ij}=x_{i}/\\left(p_{ij}q_{j}\\right)$. We can rewrite this as:\n",
        "\n",
        "\\begin{equation}\n",
        "x_{i}=l_{ij}p_{ij}q_{j}.\n",
        "\\end{equation}\n",
        "\n",
        "Then, if we sum over all products $j$ that firm $i$ produces, we would have $\\sum_{j}l_{ij}p_{ij}q_{j}=d_{i}x_{i}$, since firm $i$ produces $d_{i}$ products. We can also write:\n",
        "\n",
        "\n",
        "\\begin{equation}\n",
        "x_{i}=\\frac{1}{d_{i}}\\sum_{j}l_{ij}p_{ij}q_{j}\n",
        "\\end{equation}\n",
        "\n",
        "We will use all of this to construct a matrix $\\boldsymbol{L}$ with elements $\\frac{l_{ij}p_{ij}}{d_{i}}$:\n",
        "\n",
        "\\begin{equation}\n",
        "\\boldsymbol{x}=\\left[\\begin{array}{c}\n",
        "x_{1}\\\\\n",
        "\\vdots\\\\\n",
        "x_{m}\n",
        "\\end{array}\\right]=\\left[\\begin{array}{c}\n",
        "\\sum_{j}\\frac{l_{1j}p_{1j}q_{j}}{d_{1}}\\\\\n",
        "\\vdots\\\\\n",
        "\\frac{\\sum_{j}l_{mj}p_{mj}q_{j}}{d_{m}}\n",
        "\\end{array}\\right]=\\left[\\begin{array}{ccc}\n",
        "\\frac{l_{11}p_{11}}{d_{1}} & \\dots & \\frac{l_{1d}p_{1d}}{d_{1}}\\\\\n",
        "\\vdots & \\ddots & \\vdots\\\\\n",
        "\\frac{l_{m1}p_{m1}}{d_{m}} & \\dots & \\frac{l_{md}p_{md}}{d_{m}}\n",
        "\\end{array}\\right]\\left[\\begin{array}{c}\n",
        "q_{1}\\\\\n",
        "\\vdots\\\\\n",
        "q_{d}\n",
        "\\end{array}\\right]=\\boldsymbol{L}\\boldsymbol{q}\n",
        "\\end{equation}\n",
        "\n",
        "Thus, the pair of matrices $\\left(\\boldsymbol{A},\\boldsymbol{L}\\right)$ describes the technical conditions of production. We can combine the results:\n",
        "\n",
        "\\begin{align}\n",
        "\\boldsymbol{b} & =\\boldsymbol{q}-\\boldsymbol{A}\\boldsymbol{x}\\\\\n",
        " & =\\boldsymbol{q}-\\boldsymbol{A}\\boldsymbol{L}\\boldsymbol{q}\\\\\n",
        " & =\\left(\\boldsymbol{I}-\\boldsymbol{A}\\boldsymbol{L}\\right)\\boldsymbol{q}\n",
        "\\end{align}\n",
        "\n",
        "Then, in order to have a net production greater than zero, we depend on $\\boldsymbol{AL}$[^1]. We can rewrite everything in a single expression:\n",
        "\n",
        "\\begin{equation}\n",
        "\\left[\\begin{array}{c}\n",
        "\\boldsymbol{b}\\\\\n",
        "\\boldsymbol{0}\n",
        "\\end{array}\\right]=\\left[\\begin{array}{cc}\n",
        "\\boldsymbol{I}_{d} & -\\boldsymbol{A}\\\\\n",
        "-\\boldsymbol{L} & \\boldsymbol{I}_{m}\n",
        "\\end{array}\\right]\\left[\\begin{array}{c}\n",
        "\\boldsymbol{q}\\\\\n",
        "\\boldsymbol{x}\n",
        "\\end{array}\\right]\n",
        "\\end{equation}\n",
        "\n",
        "Here we are indicating, for example, that if $\\boldsymbol{u}=\\left(u_{1},u_{2}\\right)$ and $\\boldsymbol{v}=\\left(v_{1},v_{2}\\right)$, then in a concise notation we write $\\left(\\boldsymbol{u},\\boldsymbol{v}\\right)=\\left(u_{1},u_{2},v_{1},v_{2}\\right)$. Furthermore, $\\boldsymbol{0}$ is a vector of zero values, and $\\boldsymbol{I}_{n}$ is an identity matrix of size $n\\times n$. This is necessary because for the multiplication of matrices $n\\times m$ and $j\\times k$, we need $m=j$, that is, the number of columns of the first matrix must equal the number of rows of the second. Then, $\\boldsymbol{I}_{d}$ is a $d\\times d$ matrix in order to multiply the vector $\\boldsymbol{q}$ of size $d$. Since $\\boldsymbol{A}$ is a $d\\times m$ matrix, the number of columns in the whole matrix is $d+m=n$. $\\boldsymbol{L}$ is an $m\\times d$ matrix, so the number of rows is also $n=m+d$, which perfectly complements the last identity matrix $\\boldsymbol{I}_{m}$ that multiplies the vector $\\boldsymbol{x}$ of dimension $m$. Thus, the column vector also has dimension $n=m+d$.\n",
        "\n",
        "If we apply the inverse matrix:\n",
        "\n",
        "\\begin{align}\n",
        "\\left[\\begin{array}{cc}\n",
        "\\boldsymbol{I}_{d} & -\\boldsymbol{A}\\\\\n",
        "-\\boldsymbol{L} & \\boldsymbol{I}_{m}\n",
        "\\end{array}\\right]^{-1} \\left[\\begin{array}{c}\n",
        "\\boldsymbol{b}\\\\\n",
        "\\boldsymbol{0}\n",
        "\\end{array}\\right] & =\\left[\\begin{array}{c}\n",
        "\\boldsymbol{q}\\\\\n",
        "\\boldsymbol{x}\n",
        "\\end{array}\\right]\\\\\n",
        "\\end{align}\n",
        "\n"
      ],
      "metadata": {
        "id": "wfDY2Zsvixn0"
      }
    },
    {
      "cell_type": "markdown",
      "source": [
        "We can now relate the quantity of products allocated to the workforce to the products it produces. If $L=\\sum_{i}x_{i}$ is the total number of hours of labor directly employed by the firms over the year, then if we write a vector of size $m$ where all elements are $1$ as $\\boldsymbol{1}$, we have $\\boldsymbol{1}\\cdot\\boldsymbol{x}=\\sum_{i}x_{i}=L$. Thus:\n",
        "\n",
        "\n",
        "\\begin{align}\n",
        "\\boldsymbol{b}_{T} & =\\boldsymbol{w}L\\\\\n",
        " & =\\boldsymbol{w}\\left(\\boldsymbol{1}\\boldsymbol{x}\\right)\\\\\n",
        " & =\\boldsymbol{w}\\left[\\begin{array}{cc}\n",
        "\\boldsymbol{0} & \\boldsymbol{1}\\end{array}\\right]\\left[\\begin{array}{c}\n",
        "\\boldsymbol{q}\\\\\n",
        "\\boldsymbol{x}\\end{array}\\right]\\\\\n",
        " & =\\boldsymbol{w}\\left[\\begin{array}{cc}\n",
        "\\boldsymbol{0} & \\boldsymbol{1}\\end{array}\\right]\\left[\\begin{array}{cc}\n",
        "\\boldsymbol{I}_{d} & -\\boldsymbol{A}\\\\\n",
        "-\\boldsymbol{L} & \\boldsymbol{I}_{m}\n",
        "\\end{array}\\right]^{-1}\\left[\\begin{array}{c}\n",
        "\\boldsymbol{b}\\\\\n",
        "\\boldsymbol{0}\n",
        "\\end{array}\\right]\n",
        "\\end{align}\n",
        "\n",
        "An inverse matrix $\\boldsymbol{H}^{-1}$ is one for which $\\boldsymbol{H}^{-1}\\boldsymbol{H}=\\boldsymbol{I}$. Writing:\n",
        "\n",
        "\n",
        "\\begin{align}\n",
        "\\boldsymbol{H}=\\left[\\begin{array}{cc}\n",
        "\\boldsymbol{I}_{d} & -\\boldsymbol{A}\\\\\n",
        "-\\boldsymbol{L} & \\boldsymbol{I}_{m}\n",
        "\\end{array}\\right],\\quad\\boldsymbol{H}^{-1}= & \\left[\\begin{array}{cc}\n",
        "\\alpha_{11} & \\alpha_{12}\\\\\n",
        "\\alpha_{21} & \\alpha_{22}\n",
        "\\end{array}\\right]\n",
        "\\end{align}\n",
        "\n",
        "We want to determine the components $\\alpha_{ij}$. For now, we will keep this notation.\n",
        "\n",
        "\n",
        "\\begin{align}\n",
        "\\boldsymbol{b}_{T} & =\\boldsymbol{w}\\left[\\begin{array}{cc}\n",
        "\\boldsymbol{0} & \\boldsymbol{1}\\end{array}\\right]\\left[\\begin{array}{cc}\n",
        "\\alpha_{11} & \\alpha_{12}\\\\\n",
        "\\alpha_{21} & \\alpha_{22}\n",
        "\\end{array}\\right]\\left[\\begin{array}{c}\n",
        "\\boldsymbol{b}\\\\\n",
        "\\boldsymbol{0}\n",
        "\\end{array}\\right]\\\\\n",
        " & =\\boldsymbol{w}\\left[\\begin{array}{cc}\n",
        "\\boldsymbol{1}\\alpha_{21} & \\boldsymbol{1}\\alpha_{22}\\end{array}\\right]\\left[\\begin{array}{c}\n",
        "\\boldsymbol{b}\\\\\n",
        "\\boldsymbol{0}\n",
        "\\end{array}\\right]\\\\\n",
        " & =\\boldsymbol{w}\\boldsymbol{1}\\alpha_{21}\\boldsymbol{b}\n",
        "\\end{align}\n",
        "\n",
        "Defining $\\boldsymbol{W}=\\boldsymbol{w}\\boldsymbol{1}\\alpha_{21}$, we then have a relationship between the net production allocated to workers and the net production overall:\n",
        "\n",
        "\n",
        "\\begin{equation}\n",
        "\\boldsymbol{b}_{T}=W\\boldsymbol{b}\n",
        "\\end{equation}\n"
      ],
      "metadata": {
        "id": "fs1sclc16h_S"
      }
    },
    {
      "cell_type": "markdown",
      "source": [
        "Now we want the component $\\alpha_{21}$ of the inverse matrix. Let us calculate the inverse explicitly—recalling that in this notation, each element of the matrix $\\boldsymbol{H}$ is itself a matrix. Therefore, the elements on the right-hand side of the equality are also matrices (zero and identity). The identity matrix on the right must be $n\\times n$ overall, but we have some flexibility in choosing the dimensions of the identity sub-matrices. Defining them with orders $n_{1}\\times n_{1}$ and $n_{2}\\times n_{2}$, as long as $n=n_{1}+n_{2}$, and the zero matrices being of the necessary size to maintain the full square matrix.\n",
        "\n",
        "We then choose $n_{1}=d$ and $n_{2}=m$. In this way, the zero matrices need to have the dimensions of $\\boldsymbol{A}$ and $\\boldsymbol{L}$:\n",
        "\n",
        "\n",
        "\n",
        "\\begin{align}\n",
        "\\left[\\begin{array}{cc}\n",
        "\\alpha_{11} & \\alpha_{12}\\\\\n",
        "\\alpha_{21} & \\alpha_{22}\n",
        "\\end{array}\\right]\\left[\\begin{array}{cc}\n",
        "\\boldsymbol{I}_{d} & -\\boldsymbol{A}\\\\\n",
        "-\\boldsymbol{L} & \\boldsymbol{I}_{m}\n",
        "\\end{array}\\right] & =\\left[\\begin{array}{cc}\n",
        "\\boldsymbol{I}_{d} & \\boldsymbol{0}_{A}\\\\\n",
        "\\boldsymbol{0}_{L} & \\boldsymbol{I}_{m}\n",
        "\\end{array}\\right]\\\\\n",
        "\\left[\\begin{array}{cc}\n",
        "\\alpha_{11}\\boldsymbol{I}_{d}-\\alpha_{12}\\boldsymbol{L} & -\\alpha_{11}\\boldsymbol{A}+\\alpha_{12}\\boldsymbol{I}_{m}\\\\\n",
        "\\alpha_{21}\\boldsymbol{I}_{d}-\\alpha_{22}\\boldsymbol{L} & -\\alpha_{21}\\boldsymbol{A}+\\alpha_{22}\\boldsymbol{I}_{m}\n",
        "\\end{array}\\right] & =\\left[\\begin{array}{cc}\n",
        "\\boldsymbol{I}_{d} & \\boldsymbol{0}_{A}\\\\\n",
        "\\boldsymbol{0}_{L} & \\boldsymbol{I}_{m}\n",
        "\\end{array}\\right]\n",
        "\\end{align}\n",
        "\n",
        "\n",
        "We can note that by definition, the elements $\\alpha_{i1}$ must have $d$ columns to multiply $\\boldsymbol{I}_{d}$ and $\\boldsymbol{A}$, analogous to $\\alpha_{i2}$ which must have $m$ columns to multiply $\\boldsymbol{L}$ and $\\boldsymbol{I}_{m}$. Thus:\n",
        "\n",
        "\\begin{equation}\n",
        "\\left[\\begin{array}{cc}\n",
        "\\alpha_{11}-\\alpha_{12}\\boldsymbol{L} & -\\alpha_{11}\\boldsymbol{A}+\\alpha_{12}\\\\\n",
        "\\alpha_{21}-\\alpha_{22}\\boldsymbol{L} & -\\alpha_{21}\\boldsymbol{A}+\\alpha_{22}\n",
        "\\end{array}\\right]=\\left[\\begin{array}{cc}\n",
        "\\boldsymbol{I}_{d} & \\boldsymbol{0}_{A}\\\\\n",
        "\\boldsymbol{0}_{L} & \\boldsymbol{I}_{m}\n",
        "\\end{array}\\right]\n",
        "\\end{equation}\n",
        "\n",
        "We are then left with 2 systems:\n",
        "\n",
        "\n",
        "\\begin{align}\n",
        "\\alpha_{11}-\\alpha_{12}\\boldsymbol{L} & =\\boldsymbol{I}_{d} & \\alpha_{21}-\\alpha_{22}\\boldsymbol{L} & =\\boldsymbol{0}_{L}\\\\\n",
        "\\alpha_{11}\\boldsymbol{A}+\\alpha_{12} & =\\boldsymbol{0}_{A} & -\\alpha_{21}\\boldsymbol{A}+\\alpha_{22} & =\\boldsymbol{I}_{m}\n",
        "\\end{align}\n",
        "\n",
        "From the second system, and from the second row, we have:\n",
        "\n",
        "\n",
        "\\begin{align}\n",
        "\\alpha_{22} & =\\boldsymbol{I}_{m}+\\alpha_{21}\\boldsymbol{A}\n",
        "\\end{align}\n",
        "\n",
        "Substituting into the first row:\n",
        "\n",
        "\n",
        "\\begin{align}\n",
        "\\alpha_{21}-\\alpha_{22}\\boldsymbol{L} & =\\boldsymbol{0}_{L}\\\\\n",
        "\\alpha_{21}-\\left(\\boldsymbol{I}_{m}+\\alpha_{21}\\boldsymbol{A}\\right)\\boldsymbol{L} & =\\boldsymbol{0}_{L}\\\\\n",
        "\\alpha_{21}-\\boldsymbol{I}_{m}\\boldsymbol{L}-\\alpha_{21}\\boldsymbol{A}\\boldsymbol{L} & =\\boldsymbol{0}_{L}\\\\\n",
        "\\alpha_{21}-\\alpha_{21}\\boldsymbol{A}\\boldsymbol{L} & =\\boldsymbol{0}_{L}+\\boldsymbol{L}\\\\\n",
        "\\alpha_{21}\\left(\\boldsymbol{I}_{d}-\\boldsymbol{A}\\boldsymbol{L}\\right) & =\\boldsymbol{L}\n",
        "\\end{align}\n",
        "\n",
        "It is worth noting that $\\boldsymbol{AL}$ is a matrix of order $d\\times m$ multiplying a matrix of order $m\\times d$, resulting in a matrix of order $d\\times d$. That is, by multiplying the entire equality by its right inverse, we have:\n",
        "\n",
        "\n",
        "\\begin{equation}\n",
        "\\alpha_{21}=\\boldsymbol{L}\\left(\\boldsymbol{I}_{d}-\\boldsymbol{A}\\boldsymbol{L}\\right)^{-1}\n",
        "\\end{equation}"
      ],
      "metadata": {
        "id": "qIKLRQeRtfJ4"
      }
    },
    {
      "cell_type": "markdown",
      "source": [
        "And then:\n",
        "\n",
        "\\begin{align}\n",
        "\\boldsymbol{W} & =\\boldsymbol{w}\\boldsymbol{1}\\alpha_{12}\\\\\n",
        " & =\\boldsymbol{w}\\boldsymbol{1}\\boldsymbol{L}\\left(\\boldsymbol{I}_{d}-\\boldsymbol{A}\\boldsymbol{L}\\right)^{-1}\n",
        "\\end{align}\n",
        "\n",
        "The book calls $\\boldsymbol{W}$ the worker allocation matrix. Recalling the equation $\\boldsymbol{b}_{T}=\\boldsymbol{W}\\boldsymbol{b}$, it does not specify exactly how workers are allocated, but from the net production $\\boldsymbol{b}$, it tells us which part of the production is allocated to the workers $\\boldsymbol{b}_{T}$. If we can write $\\boldsymbol{b}_{T}=\\boldsymbol{W}\\boldsymbol{b}$, then:\n",
        "\n",
        "\n",
        "\\begin{align}\n",
        "\\lambda & =\\frac{L_{T}}{L}\\\\\n",
        " & =\\frac{\\boldsymbol{c\\cdot Wb}}{\\boldsymbol{c}\\cdot\\boldsymbol{b}}\\\\\n",
        "\\lambda\\boldsymbol{c}\\cdot\\boldsymbol{b} & =\\boldsymbol{c\\cdot Wb}\\\\\n",
        "\\lambda\\boldsymbol{c}\\cdot\\boldsymbol{b}-\\boldsymbol{c\\cdot Wb} & =0\n",
        "\\end{align}\n",
        "\n",
        "If we recall that $\\lambda=\\boldsymbol{c}\\cdot\\boldsymbol{w}$, this invites us to consider that $\\lambda$ is independent of $\\boldsymbol{b}$; that is, the partition of labor depends on certain technical aspects of the mode of production given by $\\boldsymbol{c}$, and not on the net production $\\boldsymbol{b}$. Thus:\n",
        "\n",
        "\n",
        "\\begin{align}\n",
        "\\lambda\\boldsymbol{c}\\cdot\\boldsymbol{b}-\\boldsymbol{c\\cdot Wb} & =0\\\\\n",
        "\\left(\\lambda\\boldsymbol{c}-\\boldsymbol{cW}\\right) & =0\\\\\n",
        "\\lambda\\boldsymbol{c} & =\\boldsymbol{cW}\\\\\n",
        "\\left(\\lambda\\boldsymbol{c}\\right)^{T} & =\\left(\\boldsymbol{cW}\\right)^{T}\\\\\n",
        "\\boldsymbol{c}^{T}\\lambda & =\\boldsymbol{W}^{T}\\boldsymbol{c}^{T}\\\\\n",
        "0 & =\\left(\\boldsymbol{W}^{T}-\\lambda\\boldsymbol{I}\\right)\\boldsymbol{c}^{T}\n",
        "\\end{align}\n",
        "\n",
        "Recalling that by associativity we have $\\boldsymbol{c} \\cdot (\\boldsymbol{Wb}) = (\\boldsymbol{cW}) \\cdot \\boldsymbol{b}$, then $\\lambda$ is the eigenvalue given by $\\det\\left(\\boldsymbol{W}^{T}-\\lambda\\boldsymbol{I}\\right)=0$. Since $\\det\\left(\\boldsymbol{W}^{T}-\\lambda\\boldsymbol{I}\\right) = \\det\\left(\\boldsymbol{W}-\\lambda\\boldsymbol{I}\\right)$, we are simply looking for the eigenvalues of $\\boldsymbol{W}$. With $\\boldsymbol{W} = \\boldsymbol{w} \\boldsymbol{1} \\boldsymbol{L} \\left(\\boldsymbol{I}_{d}-\\boldsymbol{A}\\boldsymbol{L}\\right)^{-1}$, then:\n",
        "\n",
        "\\begin{equation}\n",
        "\\det\\left(\\boldsymbol{w}\\boldsymbol{1}\\boldsymbol{L}\\left(\\boldsymbol{I}_{d}-\\boldsymbol{A}\\boldsymbol{L}\\right)^{-1}-\\lambda\\boldsymbol{I}\\right)=0\n",
        "\\end{equation}\n",
        "\n",
        "Using the [matrix determinant lemma](https://en.wikipedia.org/wiki/Matrix_determinant_lemma):\n",
        "\n",
        "\\begin{align}\n",
        "\\det\\left(A+uv^{T}\\right) & =\\left(1+v^{T}A^{-1}u\\right)\\det\\left(A\\right)\n",
        "\\end{align}\n",
        "\n",
        "Then, taking $A=-\\lambda\\boldsymbol{I}$, $u=\\boldsymbol{w}$, and $v^{T}=\\boldsymbol{1}\\boldsymbol{L}\\left(\\boldsymbol{I}_{d}-\\boldsymbol{A}\\boldsymbol{L}\\right)^{-1}$, we have:\n",
        "\n",
        "\n",
        "\\begin{align}\n",
        "\\det\\left(\\boldsymbol{W}^{T}-\\lambda\\boldsymbol{I}\\right) & =\\left(1+\\left[\\boldsymbol{1}\\boldsymbol{L}\\left(\\boldsymbol{I}_{d}-\\boldsymbol{A}\\boldsymbol{L}\\right)^{-1}\\right]\\left(-\\lambda\\boldsymbol{I}\\right)^{-1}\\boldsymbol{w}\\right)\\det\\left(-\\lambda\\boldsymbol{I}\\right)\\\\\n",
        " & =\\left(1-\\boldsymbol{1}\\boldsymbol{L}\\left(\\boldsymbol{I}_{d}-\\boldsymbol{A}\\boldsymbol{L}\\right)^{-1}\\boldsymbol{I}\\boldsymbol{w}\\lambda^{-1}\\right)\\det\\left(-\\lambda\\boldsymbol{I}\\right)\\\\\n",
        " & =\\left(1-\\boldsymbol{1}\\boldsymbol{L}\\left(\\boldsymbol{I}_{d}-\\boldsymbol{A}\\boldsymbol{L}\\right)^{-1}\\boldsymbol{w}\\lambda^{-1}\\right)\\left(-\\lambda\\right)^{d}\\det\\left(\\boldsymbol{I}\\right)\\\\\n",
        " & =\\left(1-\\boldsymbol{1}\\boldsymbol{L}\\left(\\boldsymbol{I}_{d}-\\boldsymbol{A}\\boldsymbol{L}\\right)^{-1}\\boldsymbol{w}\\lambda^{-1}\\right)\\left(-\\lambda\\right)^{d}\\\\\n",
        " & =\\left(1-\\boldsymbol{1}\\boldsymbol{L}\\left(\\boldsymbol{I}_{d}-\\boldsymbol{A}\\boldsymbol{L}\\right)^{-1}\\boldsymbol{w}\\lambda^{-1}\\right)\\lambda^{d}\\left(-1\\right)^{d}\n",
        "\\end{align}\n",
        "\n",
        "Then:\n",
        "\n",
        "\\begin{align}\n",
        "0= & \\det\\left(\\boldsymbol{W}^{T}-\\lambda\\boldsymbol{I}\\right)\\\\\n",
        "0= & \\left(1-\\boldsymbol{1}\\boldsymbol{L}\\left(\\boldsymbol{I}_{d}-\\boldsymbol{A}\\boldsymbol{L}\\right)^{-1}\\boldsymbol{w}\\lambda^{-1}\\right)\\lambda^{d}\\left(-1\\right)^{d}\\\\\n",
        "1= & \\frac{\\boldsymbol{1}\\boldsymbol{L}\\left(\\boldsymbol{I}_{d}-\\boldsymbol{A}\\boldsymbol{L}\\right)^{-1}\\boldsymbol{w}}{\\lambda}\\\\\n",
        "\\lambda= & \\boldsymbol{1}\\boldsymbol{L}\\left(\\boldsymbol{I}_{d}-\\boldsymbol{A}\\boldsymbol{L}\\right)^{-1}\\boldsymbol{w}\n",
        "\\end{align}\n",
        "\n",
        "Returning then:\n",
        "\n",
        "\n",
        "\\begin{align}\n",
        "\\lambda\\boldsymbol{c} & =\\boldsymbol{cW}\\\\\n",
        "\\boldsymbol{c} & =\\frac{1}{\\lambda}\\boldsymbol{cW}\\\\\n",
        " & =\\frac{\\boldsymbol{c}\\boldsymbol{w}}{\\lambda}\\boldsymbol{1}\\boldsymbol{L}\\left(\\boldsymbol{I}_{d}-\\boldsymbol{A}\\boldsymbol{L}\\right)^{-1}\n",
        "\\end{align}\n",
        "\n",
        "And as we saw, $\\lambda = \\boldsymbol{c} \\boldsymbol{w}$:\n",
        "\n",
        "\\begin{align}\n",
        "\\boldsymbol{c} & =\\frac{\\boldsymbol{c}\\boldsymbol{w}}{\\boldsymbol{c}\\boldsymbol{w}}\\boldsymbol{1}\\boldsymbol{L}\\left(\\boldsymbol{I}_{d}-\\boldsymbol{A}\\boldsymbol{L}\\right)^{-1}\\\\\n",
        " & =\\boldsymbol{1}\\boldsymbol{L}\\left(\\boldsymbol{I}_{d}-\\boldsymbol{A}\\boldsymbol{L}\\right)^{-1}\n",
        "\\end{align}\n"
      ],
      "metadata": {
        "id": "FVV8P-NQbi1x"
      }
    },
    {
      "cell_type": "markdown",
      "source": [
        "The labor content in any collection of products $\\boldsymbol{b}$ can then be written as:\n",
        "\n",
        "\\begin{equation}\n",
        "L\\equiv\\boldsymbol{c}\\boldsymbol{b}=\\boldsymbol{1}\\boldsymbol{L}\\left(\\boldsymbol{I}_{d}-\\boldsymbol{A}\\boldsymbol{L}\\right)^{-1}\\boldsymbol{b}\n",
        "\\end{equation}\n",
        "\n",
        "It can be observed that the measure of labor content $L$ calculates the average labor spent across all production units and adds all the intermediate labor required at each stage of production. If we use the series expansion of a matrix in $L = \\boldsymbol{1}\\boldsymbol{L}\\left(\\boldsymbol{I}_{d}-\\boldsymbol{A}\\boldsymbol{L}\\right)^{-1}\\boldsymbol{b}$, we obtain:\n",
        "\n",
        "\n",
        "\\begin{equation}\n",
        "L=\\left(\\boldsymbol{c}_{0}+\\boldsymbol{c}_{1}+\\dots\\right)\\boldsymbol{b}\n",
        "\\end{equation}\n",
        "\n",
        "Where $\\boldsymbol{c}_{n} = \\boldsymbol{1}\\boldsymbol{L}\\left(\\boldsymbol{A}\\boldsymbol{L}\\right)^{n}$ determines the labor required at the $n$-th stage of production (counting backward from the end). In this way, $L$ accounts for all the labor necessary to produce a collection of products[^2].\n"
      ],
      "metadata": {
        "id": "VEf4L3yC8RXa"
      }
    },
    {
      "cell_type": "markdown",
      "source": [
        "[^1]: From this relation, we can deduce that the largest eigenvalue of $\\boldsymbol{AL}$ must be less than $1$ for economic reproduction to exist. At the moment, I am reproducing the book's footnote; I need to study the subject further to present it in more detail in the future.  \n",
        "[^2]: I would like to verify this for myself in the future."
      ],
      "metadata": {
        "id": "vPjJXyUu3kb9"
      }
    },
    {
      "cell_type": "markdown",
      "source": [
        "## Example"
      ],
      "metadata": {
        "id": "PA2_XeHGxyRs"
      }
    },
    {
      "cell_type": "markdown",
      "source": [
        "\n",
        "Let's imagine a society with two production units (One and Two) that during a year produce Steel and Bananas. The total production in the year is $30$ units of steel and $40$ units of bananas, i.e., $\\boldsymbol{q}=\\left(30,40\\right)$, of which half is net production $\\boldsymbol{b}=\\left(15,20\\right)$ and approximately half of the net production is allocated to the workers $\\boldsymbol{b}_{T}=\\left(5,10\\right)$.\n",
        "\n",
        "The two firms together employ $L=250$ hours of annual labor. Let's consider that Firm One employs 150h and Firm Two 100h, i.e., $\\boldsymbol{x}=\\left(150,100\\right)$. The production that is internally consumed, as we defined, is half of the total production, i.e., $\\boldsymbol{b}_{I}=\\boldsymbol{b}=\\left(15,20\\right)$. Considering that Firm One consumes 15 units of steel and 10 units of bananas, then $\\boldsymbol{b}_{I_{1}}=\\left(15,10\\right)$. Firm Two consumes the remainder: 0 units of steel and 10 units of bananas, i.e., $\\boldsymbol{b}_{I_{2}}=\\left(0,10\\right)$.\n",
        "\n",
        "\n",
        "\n"
      ],
      "metadata": {
        "id": "2N88DNHNx0v-"
      }
    },
    {
      "cell_type": "code",
      "source": [
        "import numpy as np\n",
        "\n",
        "bt = np.array([5, 10])\n",
        "bc = np.array([10, 10])\n",
        "b = bt + bc\n",
        "bi = b\n",
        "q = b + bi\n",
        "Um = np.array([1,1])\n",
        "x = np.array([150,100])\n",
        "L = np.dot(x,Um)\n",
        "\n",
        "print('Basket of commodities for workers:        bt =', bt)\n",
        "print('Basket of commodities for capitalists:    bc =', bc)\n",
        "print('Net basket of commodities:                 b =', b)\n",
        "print('Basket of commodities used in production: bi =', bi)\n",
        "print('Basket of gross products:                  q =', q)\n",
        "print('Hours worked by each firm:                 x =', x)\n",
        "print('Total hours worked in society:             L =', L)"
      ],
      "metadata": {
        "colab": {
          "base_uri": "https://localhost:8080/"
        },
        "id": "KSh2dalIDYsW",
        "outputId": "185bbbff-962a-4599-a85e-18b1d1a1bd9c"
      },
      "execution_count": 42,
      "outputs": [
        {
          "output_type": "stream",
          "name": "stdout",
          "text": [
            "Basket of commodities for workers:        bt = [ 5 10]\n",
            "Basket of commodities for capitalists:    bc = [10 10]\n",
            "Net basket of commodities:                 b = [15 20]\n",
            "Basket of commodities used in production: bi = [15 20]\n",
            "Basket of gross products:                  q = [30 40]\n",
            "Hours worked by each firm:                 x = [150 100]\n",
            "Total hours worked in society:             L = 250\n"
          ]
        }
      ]
    },
    {
      "cell_type": "markdown",
      "source": [
        "We can also calculate the vector:\n",
        "\n",
        "$$\\boldsymbol{w}=\\frac{\\boldsymbol{b}_{T}}{L}=\\left(\\frac{5}{250},\\frac{10}{250}\\right)=\\left(0.02,0.04\\right)$$\n",
        "\n",
        "Since $\\boldsymbol{b}_{I_{i}}=\\left(x_{i}a_{1i},\\dots,x_{i}a_{di}\\right)$, then $\\frac{b_{I_{ji}}}{x_{i}}=a_{ji}$, i.e., for steel consumption of Firm One we have:\n",
        "\n",
        "$$\n",
        "a_{11}=\\frac{15}{150}=0.1\n",
        "$$\n",
        "\n",
        "Similarly:\n",
        "\n",
        "$$\n",
        "a_{21}=\\frac{10}{150}=\\frac{1}{15}, \\quad a_{12}=\\frac{0}{100}=0, \\quad a_{22}=\\frac{10}{100}=0.1\n",
        "$$\n",
        "\n",
        "So we have:\n",
        "\n",
        "$$\n",
        "\\boldsymbol{a}_{1}=\\left(0.1,1/15\\right), \\quad \\boldsymbol{a}_{2}=\\left(0,0.1\\right)\n",
        "$$\n",
        "\n",
        "Constructing the matrix $\\boldsymbol{A}$:\n",
        "\n",
        "$$\n",
        "\\boldsymbol{A}=\\left[\\begin{array}{cc}\n",
        "0.1 & 0\\\\\n",
        "1/15 & 0.1\n",
        "\\end{array}\\right] \\rightarrow \\boldsymbol{b}_{I}=\\boldsymbol{A}\\boldsymbol{x}=\\left[\\begin{array}{cc}\n",
        "0.1 & 0\\\\\n",
        "1/15 & 0.1\n",
        "\\end{array}\\right]\\left[\\begin{array}{c}\n",
        "150\\\\\n",
        "100\n",
        "\\end{array}\\right]=\\left[\\begin{array}{c}\n",
        "15\\\\\n",
        "20\n",
        "\\end{array}\\right]\n",
        "$$"
      ],
      "metadata": {
        "id": "JL6MfCbhDSwe"
      }
    },
    {
      "cell_type": "code",
      "source": [
        "w = bt/L\n",
        "A = np.zeros((2, 2))\n",
        "bi1 = np.array([15,10])\n",
        "bi2 = np.array([0,10])\n",
        "for i in range(2):\n",
        "    A[i, 0] = bi1[i]/x[0]\n",
        "    A[i, 1] = bi2[i]/x[1]\n",
        "\n",
        "print('w                                     =',w)\n",
        "print('Commodities consumed by Firm One: bi1 =',bi1)\n",
        "print('Commodities consumed by Firm One: bi2 =',bi2)\n",
        "print('Matrix A:\\n',A)\n",
        "print('Check:                       bi = A.x =',np.dot(A,x))\n"
      ],
      "metadata": {
        "colab": {
          "base_uri": "https://localhost:8080/"
        },
        "id": "2xVusEVbD3dl",
        "outputId": "4511d7f5-c6b7-4069-f436-d5ffe0ff1b82"
      },
      "execution_count": 40,
      "outputs": [
        {
          "output_type": "stream",
          "name": "stdout",
          "text": [
            "w                                        = [0.02 0.04]\n",
            "Commodities consumed by Firm One: bi1    = [15 10]\n",
            "Commodities consumed by Firm One: bi2    = [ 0 10]\n",
            "Matrix A:\n",
            " [[0.1        0.        ]\n",
            " [0.06666667 0.1       ]]\n",
            "Check:                          bi = A.x = [15. 20.]\n"
          ]
        }
      ]
    },
    {
      "cell_type": "markdown",
      "source": [
        "Now regarding gross production, considering that Firm One produces all the steel and half of the bananas, we have $\\boldsymbol{q}_{1}=\\left(30,20\\right)$, so Firm Two must produce the remainder $\\boldsymbol{q}_{2}=\\left(0,20\\right)$, with the sum of both clearly giving the total gross production $\\boldsymbol{q}=\\boldsymbol{q}_{1}+\\boldsymbol{q}_{2}$ as defined at the beginning.  \n",
        "\n",
        "Another way to put this is by saying that Firm One is responsible for producing 100\\% of the steel ($p_{11}=1$ and $p_{21}=0$), and regarding bananas, each firm produces half ($p_{12}=p_{22}=0.5$).  \n",
        "\n",
        "Since Firm One produces two products $d_{1}=2$ and Firm Two only one $d_{2}=1$, we can calculate the terms $l_{ij}$ through both paths, for example $l_{12}$ (related to Firm One's banana production):\n",
        "\n",
        "\n",
        "\\begin{align}\n",
        "l_{12} & =\\frac{x_{1}}{q_{12}}=\\frac{150}{20}=7.50\\\\\n",
        "l_{12} & =\\frac{x_{1}}{p_{12}q_{2}}=\\frac{150}{0.5\\cdot40}=\\frac{150}{20}=7.50\n",
        "\\end{align}\n",
        "\n",
        "In other words, Firm One requires $7.50$ hours to produce one unit of bananas. For the other products:\n",
        "\n",
        "\n",
        "\\begin{align}\n",
        "l_{11} & =\\frac{x_{1}}{q_{11}}=\\frac{150}{30}=5.00\\\\\n",
        "l_{21} & =\\frac{x_{2}}{q_{21}}=\\frac{100}{0}\\approx\\lim_{x\\rightarrow0}\\frac{100}{0}=\\infty\\\\\n",
        "l_{22} & =\\frac{x_{2}}{q_{22}}=\\frac{100}{20}=5.00\n",
        "\\end{align}\n",
        "\n",
        "It is interesting to note here that for $l_{21}$ I used an approximation which indicates that Firm Two would require infinite hours to produce steel, since it does not produce it. It is worth noting that we are not directly defining how the future gross production of each firm is divided between internal consumption for production and net production, nor how the products consumed by the firm are distributed among its net products.\n",
        "\n",
        "Now we are able to construct the matrix $\\boldsymbol{L}$:\n",
        "\n",
        "\\begin{equation}\n",
        "\\boldsymbol{L}=\\left[\\begin{array}{cc}\n",
        "\\frac{l_{11}p_{11}}{d_{1}} & \\frac{l_{12}p_{12}}{d_{1}}\\\\\n",
        "\\frac{l_{21}p_{21}}{d_{2}} & \\frac{l_{22}p_{22}}{d_{2}}\n",
        "\\end{array}\\right]=\\left[\\begin{array}{cc}\n",
        "\\frac{5}{2} & \\frac{7.5\\cdot0.5}{2}\\\\\n",
        "0 & 5\\cdot0.5\n",
        "\\end{array}\\right]=\\left[\\begin{array}{cc}\n",
        "2.5 & 1.875\\\\\n",
        "0 & 2.5\n",
        "\\end{array}\\right]\n",
        "\\end{equation}\n",
        "\n",
        "\n",
        "Note: We can think of each element of the matrix as $\\frac{l_{ij}p_{ij}}{d_{i}}$. Since $p_{ij}=\\frac{q_{ij}}{q_j}$ and $l_{ij}=\\frac{x_{i}}{q_{ij}}$, then the element is $\\frac{x_{i}}{d_{i}q_{j}}$.\n",
        "\n",
        "In this way, we eliminate $q_{ij}$ and the indeterminacy $l_{21}\\cdot p_{21} = \\infty \\cdot 0$. However, we must remember that all this calculation originated from $x_{i}=\\frac{1}{d_{i}}\\sum_{j}l_{ij}q_{ij}$. But if $l_{ij}q_{ij}=x_i$, then we should always use $d_i=d$ regardless of the number of goods produced by firm $i$.  Furthermore, to keep the notation adopted in the book, whenever we encounter the indeterminate form $\\lim_{p_{ij}\\rightarrow0} l_{ij} p_{ij}$, we assign it a value of $0$. We also can recover $\\boldsymbol{x}$:\n",
        "\n",
        "\n",
        "\\begin{equation}\n",
        "\\boldsymbol{x}=\\boldsymbol{L}\\boldsymbol{q}=\\left[\\begin{array}{cc}\n",
        "2.5 & 1.875\\\\\n",
        "0 & 2.5\n",
        "\\end{array}\\right]\\left[\\begin{array}{c}\n",
        "30\\\\\n",
        "40\n",
        "\\end{array}\\right]=\\left[\\begin{array}{c}\n",
        "150\\\\\n",
        "100\n",
        "\\end{array}\\right]\n",
        "\\end{equation}\n",
        "\n",
        "In other words, we can obtain the net production by doing:\n",
        "\n",
        "\\begin{align}\n",
        "\\boldsymbol{b} & =\\left(\\boldsymbol{I}-\\boldsymbol{A}\\boldsymbol{L}\\right)\\boldsymbol{q}\\\\\n",
        " & = \\left(\\left[\\begin{array}{cc}\n",
        "1 & 0\\\\\n",
        "0 & 1\n",
        "\\end{array}\\right]-\\left[\\begin{array}{cc}\n",
        "0.1 & 0\\\\\n",
        "1/15 & 0.1\n",
        "\\end{array}\\right]\\left[\\begin{array}{cc}\n",
        "2.5 & 1.875\\\\\n",
        "0 & 2.5\n",
        "\\end{array}\\right]\\right)\\left[\\begin{array}{c}\n",
        "30\\\\\n",
        "40\n",
        "\\end{array}\\right]\\\\\n",
        " & = \\left(\\left[\\begin{array}{cc}\n",
        "1 & 0\\\\\n",
        "0 & 1\n",
        "\\end{array}\\right]-\\left[\\begin{array}{cc}\n",
        "0.25 & 0.1875\\\\\n",
        "2.5/15 & 0.375\n",
        "\\end{array}\\right]\\right)\\left[\\begin{array}{c}\n",
        "30\\\\\n",
        "40\n",
        "\\end{array}\\right]\\\\\n",
        " & =\\left[\\begin{array}{cc}\n",
        "0.75 & -0.1875\\\\\n",
        "-2.5/15 & 0.625\n",
        "\\end{array}\\right]\\left[\\begin{array}{c}\n",
        "30\\\\\n",
        "40\n",
        "\\end{array}\\right]\\\\\n",
        " & =\\left[\\begin{array}{c}\n",
        "15\\\\\n",
        "20\n",
        "\\end{array}\\right]\n",
        "\\end{align}\n"
      ],
      "metadata": {
        "id": "ylqPeU0QJD21"
      }
    },
    {
      "cell_type": "code",
      "source": [
        "q1=np.array([30,20])\n",
        "q2=np.array([0,20])\n",
        "L = np.zeros((2, 2))\n",
        "p = np.array([[q1[0]/q[0],q1[1]/q[1]],\n",
        "              [q2[0]/q[0],q2[1]/q[1]]])\n",
        "d1 = 2; d2 = 1\n",
        "I = np.eye(2)\n",
        "\n",
        "for i in range(2):\n",
        "  L[0,i] = (x[0]/d1)*(1/q[i]) if (p[0,i]>0) else 0\n",
        "  L[1,i] = (x[1]/d2)*(1/q[i]) if (p[1,i]>0) else 0\n",
        "\n",
        "\n",
        "print('Gross product by Firm One: q1 =',q1)\n",
        "print('Gross product by Firm Two: q2 =',q2)\n",
        "print('Firm One makes             d1 =',d1,'products')\n",
        "print('Firm Two makes             d2 =',d2,'products')\n",
        "print('Check:                 x = Lq =',np.dot(L,q))\n",
        "print('Check:            b = (I-AL)q =',np.dot(I-np.dot(A,L),q))"
      ],
      "metadata": {
        "colab": {
          "base_uri": "https://localhost:8080/"
        },
        "id": "3sVhXBH3JKBx",
        "outputId": "247c55cc-926a-4225-d2eb-312be2f88e60"
      },
      "execution_count": 69,
      "outputs": [
        {
          "output_type": "stream",
          "name": "stdout",
          "text": [
            "Gross product by Firm One: q1 = [30 20]\n",
            "Gross product by Firm Two: q2 = [ 0 20]\n",
            "Firm One makes             d1 = 2 products\n",
            "Firm Two makes             d2 = 1 products\n",
            "Check:                 x = Lq = [150. 100.]\n",
            "Check:            b = (I-AL)q = [15. 20.]\n"
          ]
        }
      ]
    },
    {
      "cell_type": "markdown",
      "source": [
        "Finally, we can calculate the workers' allocation matrix:\n",
        "\n",
        "\\begin{equation}\n",
        "\\boldsymbol{W}=\\boldsymbol{w}\\boldsymbol{1}\\boldsymbol{L}\\left(\\boldsymbol{I}_{d}-\\boldsymbol{A}\\boldsymbol{L}\\right)^{-1}=\\boldsymbol{w}\\boldsymbol{1}\\boldsymbol{L}\\boldsymbol{M}^{-1}\n",
        "\\end{equation}\n",
        "\n",
        "As we can see, $\\boldsymbol{M}$ is the matrix we just calculated in $\\boldsymbol{b}=\\boldsymbol{M}\\boldsymbol{q}$. Therefore, we can compute its inverse by doing:\n",
        "\n",
        "\n",
        "\\begin{align}\n",
        "\\boldsymbol{M}^{-1}\\boldsymbol{M} & =\\boldsymbol{I}\\\\\n",
        "\\left[\\begin{array}{cc}\n",
        "a_{11} & a_{12}\\\\\n",
        "a_{21} & a_{22}\n",
        "\\end{array}\\right]\\left[\\begin{array}{cc}\n",
        "0.75 & -0.1875\\\\\n",
        "-2.5/15 & 0.625\n",
        "\\end{array}\\right] & = \\left[\\begin{array}{cc}\n",
        "1 & 0\\\\\n",
        "0 & 1\n",
        "\\end{array}\\right]\\\\\n",
        "\\left[\\begin{array}{cc}\n",
        "0.75a_{11}-a_{12}2.5/15 & -0.1875a_{11}+a_{12}0.625\\\\\n",
        "0.75a_{21}-a_{22}2.5/15 & -0.1875a_{21}+a_{22}0.625\n",
        "\\end{array}\\right] & = \\left[\\begin{array}{cc}\n",
        "1 & 0\\\\\n",
        "0 & 1\n",
        "\\end{array}\\right]\n",
        "\\end{align}\n",
        "\n",
        "We then have:\n",
        "\n",
        "\\begin{align}\n",
        "0.75a_{11}-a_{12}2.5/15 & =1 & 0.75a_{21}-a_{22}2.5/15 & =0\\\\\n",
        "-0.1875a_{11}+a_{12}0.625 & =0 & -0.1875a_{21}+a_{22}0.625 & =1\n",
        "\\end{align}\n",
        "\n",
        "This time we need to solve both systems. Working with the bottom row of the left system and the top row of the right system:\n",
        "\n",
        "\n",
        "\\begin{align}\n",
        "-a_{11}+a_{12}\\frac{0.625}{0.1875} & =0 & a_{21}-a_{22}\\frac{2.5}{15\\cdot0.75} & =0\\\\\n",
        "a_{11} & =a_{12}\\frac{0.625}{0.1875} & a_{21} & =a_{22}\\frac{2.5}{11.25}\n",
        "\\end{align}\n",
        "\n",
        "Substituting into the other row:\n",
        "\n",
        "\\begin{align}\n",
        "0.75a_{11}-a_{12}\\frac{2.5}{15} & =1 & -0.1875a_{21}+a_{22}0.625 & =1\\\\\n",
        "0.75\\left(a_{12}\\frac{0.625}{0.1875}\\right)-a_{12}\\frac{2.5}{15} & =1 & -0.1875\\left(a_{22}\\frac{2.5}{11.25}\\right)+a_{22}0.625 & =1\\\\\n",
        "a_{12}\\left(\\frac{0.46875}{0.1875}-\\frac{2.5}{15}\\right) & =1 & a_{22}\\left(-\\frac{0.46875}{11.25}+0.625\\right) & =1\\\\\n",
        "2.3333a_{12} & =1 & 0.58333a_{22} & =1\\\\\n",
        "a_{12} & =2.3333 & a_{22} & =\\frac{1}{0.58333}\\\\\n",
        "a_{12} & =0.42857 & a_{22} & =1.71429\n",
        "\\end{align}\n",
        "\n",
        "We can calculate the remaining elements:\n",
        "\n",
        "\n",
        "\\begin{align}\n",
        "a_{11} & =a_{12}\\frac{0.625}{0.1875} & a_{21} & =a_{22}\\frac{2.5}{11.25}\\\\\n",
        "a_{11} & =0.42857\\cdot\\frac{0.625}{0.1875} & a_{21} & =1.71429\\cdot\\frac{2.5}{11.25}\\\\\n",
        "a_{11} & =1.42856 & a_{21} & =0.38095\n",
        "\\end{align}\n",
        "\n",
        "Then:\n",
        "\n",
        "\\begin{equation}\n",
        "\\boldsymbol{M}^{-1}=\\left[\\begin{array}{cc}\n",
        "a_{11} & a_{12}\\\\\n",
        "a_{21} & a_{22}\n",
        "\\end{array}\\right]=\\left[\\begin{array}{cc}\n",
        "1.42857 & 0.42857\\\\\n",
        "0.38095 & 1.71429\n",
        "\\end{array}\\right]\n",
        "\\end{equation}"
      ],
      "metadata": {
        "id": "05kkjG-nBG3m"
      }
    },
    {
      "cell_type": "code",
      "source": [
        "MI=np.linalg.inv(I-np.dot(A,L))\n",
        "print(\"The inverse matrix of \\nM = (I - A L) is \\n\", MI)"
      ],
      "metadata": {
        "id": "NEWa-RBCnXez",
        "outputId": "6a5888cd-8075-4a1e-972d-8dbf9a83d8ff",
        "colab": {
          "base_uri": "https://localhost:8080/"
        }
      },
      "execution_count": 75,
      "outputs": [
        {
          "output_type": "stream",
          "name": "stdout",
          "text": [
            "The inverse matrix of \n",
            "M = (I - A L) is \n",
            " [[1.42857143 0.42857143]\n",
            " [0.38095238 1.71428571]]\n"
          ]
        }
      ]
    },
    {
      "cell_type": "markdown",
      "source": [
        "Agora se fazemos:\n",
        "\n",
        "\\begin{align}\n",
        "\\boldsymbol{W} & =\\boldsymbol{w}\\boldsymbol{1}\\boldsymbol{L}\\boldsymbol{M}^{-1}\\\\\n",
        " & =\\left[\\begin{array}{c}\n",
        "0.02\\\\\n",
        "0.04\n",
        "\\end{array}\\right]\\left[\\begin{array}{cc}\n",
        "1 & 1\\end{array}\\right]\\left[\\begin{array}{cc}\n",
        "2.5 & 1.875\\\\\n",
        "0 & 2.5\n",
        "\\end{array}\\right]\\left[\\begin{array}{cc}\n",
        "1.42857 & 0.42857\\\\\n",
        "0.38095 & 1.71429\n",
        "\\end{array}\\right]\\\\\n",
        " & =\\left[\\begin{array}{c}\n",
        "0.02\\\\\n",
        "0.04\n",
        "\\end{array}\\right]\\left[\\begin{array}{cc}\n",
        "1 & 1\\end{array}\\right]\\left[\\begin{array}{cc}\n",
        "4.28571 & 4.28572\\\\\n",
        "0.95237 & 4.28573\n",
        "\\end{array}\\right]\\\\\n",
        " & =\\left[\\begin{array}{c}\n",
        "0.02\\\\\n",
        "0.04\n",
        "\\end{array}\\right]\\left[\\begin{array}{cc}\n",
        "5.2308 & 8.57144\\end{array}\\right]\n",
        "\\end{align}\n",
        "\n",
        "Ou seja:\n",
        "\n",
        "\\begin{equation}\n",
        "\\boldsymbol{W}=\\left[\\begin{array}{cc}\n",
        "0.10476 & 0.17143\\\\\n",
        "0.20952 & 0.34286\n",
        "\\end{array}\\right]\n",
        "\\end{equation}\n",
        "\n",
        "Lembrando que $L=\\boldsymbol{1}\\boldsymbol{x}=\\left[\\begin{array}{cc}\n",
        "1 & 1\\end{array}\\right]\\left[\\begin{array}{c}\n",
        "150\\\\\n",
        "100\n",
        "\\end{array}\\right]=150+100=250$.Podemos conferir fazendo:\n",
        "\n",
        "\\begin{equation}\n",
        "\\boldsymbol{b}_{T}=W\\boldsymbol{b}=\\left[\\begin{array}{cc}\n",
        "0.10476 & 0.17143\\\\\n",
        "0.20952 & 0.34286\n",
        "\\end{array}\\right]\\left[\\begin{array}{c}\n",
        "15\\\\\n",
        "20\n",
        "\\end{array}\\right]=\\left[\\begin{array}{c}\n",
        "5\\\\\n",
        "10\n",
        "\\end{array}\\right]\n",
        "\\end{equation}"
      ],
      "metadata": {
        "id": "JPExRqw1lmUV"
      }
    },
    {
      "cell_type": "code",
      "source": [
        "# Up to this point, we let Python identify the vector automatically\n",
        "# But it will perform a dot product between two vectors\n",
        "# We need to specify explicitly when we have:\n",
        "\n",
        "w = w.reshape(-1, 1)                          # Column vector (n x 1)\n",
        "T = np.dot(Um, np.dot(L, MI)).reshape(1, -1)  # Row vector (1 x m)\n",
        "\n",
        "# Multiplication: column vector x row vector → matrix\n",
        "W = np.dot(w, T)\n",
        "\n",
        "print(\"The allocation matrix is \\n\", W)\n"
      ],
      "metadata": {
        "id": "fAw4dWewlwzs",
        "outputId": "be40f66a-aaae-48ee-b6ec-691d60c41741",
        "colab": {
          "base_uri": "https://localhost:8080/"
        }
      },
      "execution_count": 110,
      "outputs": [
        {
          "output_type": "stream",
          "name": "stdout",
          "text": [
            "The allocation matrix is \n",
            " [[0.1047619  0.17142857]\n",
            " [0.20952381 0.34285714]]\n"
          ]
        }
      ]
    },
    {
      "cell_type": "markdown",
      "source": [
        "We can interpret each term $W_{ij}$ as the fraction of net product $i$ that is allocated to the workers for each unit of net product $j$. For example, $W_{11} \\approx 0.1$ indicates that for every 10 units of steel of net product produced, 1 unit of steel is allocated to the workers ($0.1 \\cdot 15 = 1.5$), and $W_{12} \\approx 0.17$ similarly indicates that for each unit of banana of net product, 0.17 unit of steel is allocated to the workers ($0.17 \\cdot 20 \\approx 3.5$), resulting in a total of 5 units of steel produced for the workers for this net production $\\boldsymbol{b}$.\n",
        "\n",
        "We can now calculate the vector $\\boldsymbol{c}$:\n",
        "\n",
        "\n",
        "\\begin{equation}\n",
        "\\boldsymbol{c}=\\boldsymbol{1}\\boldsymbol{L}\\boldsymbol{M}^{-1}=\\left[\\begin{array}{cc}\n",
        "1 & 1\\end{array}\\right]\\left[\\begin{array}{cc}\n",
        "2.50 & 1.86\\\\\n",
        "0.00 & 2.50\n",
        "\\end{array}\\right]\\left[\\begin{array}{cc}\n",
        "1.43 & 0.43\\\\\n",
        "0.38 & 1.70\n",
        "\\end{array}\\right]=\\left[\\begin{array}{cc}\n",
        "5.23 & 8.57\\end{array}\\right]\n",
        "\\end{equation}\n",
        "\n",
        "We can then recover the total hours worked in our example:\n",
        "\n",
        "\n",
        "\\begin{equation}\n",
        "L=\\left[\\boldsymbol{1}\\boldsymbol{L}\\left(I-\\boldsymbol{A}\\boldsymbol{L}\\right)^{-1}\\right]\\boldsymbol{b}=\\left[\\begin{array}{cc}\n",
        "5.23 & 8.57\\end{array}\\right]\\left[\\begin{array}{c}\n",
        "15\\\\\n",
        "20\n",
        "\\end{array}\\right]=250\n",
        "\\end{equation}\n",
        "\n",
        "With this, we can calculate the labor allocation:\n",
        "\n",
        "\n",
        "\\begin{equation}\n",
        "\\lambda=\\boldsymbol{1}\\boldsymbol{L}\\boldsymbol{M}^{-1}\\boldsymbol{w}=\\boldsymbol{c}\\boldsymbol{w}=\\left[\\begin{array}{cc}\n",
        "5.23 & 8.57\\end{array}\\right]\\left[\\begin{array}{c}\n",
        "0.02\\\\\n",
        "0.04\n",
        "\\end{array}\\right]=0.4476\n",
        "\\end{equation}\n"
      ],
      "metadata": {
        "id": "FKXSTTUNCgmz"
      }
    },
    {
      "cell_type": "code",
      "source": [
        "c=np.dot(Um,np.dot(L,MI))\n",
        "lamb = np.dot(c,w)\n",
        "Li=np.dot(c,b)\n",
        "\n",
        "print('A quantidade de horas em média necessaria para produzir cada mercadoria é c =',c)\n",
        "print('Check:                                                           L = 1.L.MI =',Li)\n",
        "print('A alocação do trabalho é                                             lambda =',lamb[0])\n"
      ],
      "metadata": {
        "id": "EfsA8kUarbV4",
        "outputId": "a3da0bd3-75e6-4680-d150-8d7e640dbdd7",
        "colab": {
          "base_uri": "https://localhost:8080/"
        }
      },
      "execution_count": 133,
      "outputs": [
        {
          "output_type": "stream",
          "name": "stdout",
          "text": [
            "A quantidade de horas em média necessaria para produzir cada mercadoria é c = [5.23809524 8.57142857]\n",
            "Check:                                                           L = 1.L.MI = 250.0\n",
            "A alocação do trabalho é                                             lambda = 0.44761904761904764\n"
          ]
        }
      ]
    },
    {
      "cell_type": "markdown",
      "source": [
        "Let's interpret these results. Each unit of steel requires on average $5.23$ hours of work to be produced, and each unit of banana requires $8.57$ hours, so $\\boldsymbol{c} = \\left(5.23, 8.57\\right)$.\n",
        "\n",
        "Then, the labor contained in the net production is $L = \\boldsymbol{c} \\cdot \\boldsymbol{b} = 5.23 \\cdot 15 + 8.57 \\cdot 20 \\approx 250$,  \n",
        "and the labor contained in the production allocated to workers is $L_T = \\boldsymbol{c} \\cdot \\boldsymbol{b_T} = 5.23 \\cdot 5 + 8.57 \\cdot 10 \\approx 112$,  \n",
        "so the labor partition is given by $\\lambda = 112 / 250 \\approx 0.45$, approximately the same result found previously.\n",
        "\n",
        "This means that 45\\% of the hours employed by workers directly in the productive system of this society are contained in the products allocated to the working class, while the remaining 55\\% is appropriated by another class that is not directly involved in the production system. This is still a division by class; it is important to remember that typically the working class is much larger than the capitalist class. Considering a proportion of 10 workers for each capitalist, it means that the 45\\% of labor contained and allocated to workers is distributed among 10 times more people than the 55\\% appropriated by capitalists.\n",
        "\n",
        "We can now calculate labor per capita, that is, if there are $N$ capitalists, and 55\\% of production is appropriated by capitalists, on average each capitalist appropriates $\\frac{55}{N}\\%$ of the production. Doing the same for the workers, but considering that there are $10N$ workers, each worker appropriates $\\frac{45}{10N}\\%$ of the production. Now calculating the ratio, that is, how many times more a capitalist appropriates the production compared to a worker, we have:\n",
        "\n",
        "\n",
        "\\begin{equation}\n",
        "\\frac{\\frac{55}{N}\\%}{\\frac{45}{10N}\\%}=\\frac{55}{N}\\frac{10N}{45}=\\frac{550}{45}\\approx 12\n",
        "\\end{equation}\n",
        "\n",
        "In this case, a capitalist appropriates 12 times more of the production than a worker. If we consider that there are 100 workers for each capitalist, then this capitalist appropriates more than 122 times the production compared to a worker. This considers a capitalist who extracts profits simply from owning the means of private production.\n"
      ],
      "metadata": {
        "id": "1sVXA1YB_f6A"
      }
    },
    {
      "cell_type": "code",
      "source": [
        "Lt = np.dot(c, bt)\n",
        "cap = 10\n",
        "ratio = cap * (1 - lamb) / lamb\n",
        "\n",
        "print(f'Labor content allocated to workers: lambdaT = c.bt = {Lt:.2f}')\n",
        "print(f'Check:                               lambda = Lt/L = {Lt/Li:.2f}')\n",
        "print(f'If there are {cap} times more capitalists than workers, then each capitalist appropriates {ratio[0]:.2f} times more of the production than a worker.')\n"
      ],
      "metadata": {
        "id": "n1DpbGAmsoms",
        "outputId": "9f4d9d33-7659-4c8d-cef9-3c4dcc953798",
        "colab": {
          "base_uri": "https://localhost:8080/"
        }
      },
      "execution_count": 131,
      "outputs": [
        {
          "output_type": "stream",
          "name": "stdout",
          "text": [
            "Labor content allocated to workers: lambdaT = c.bt = 111.90\n",
            "Check:                               lambda = Lt/L = 0.45\n",
            "If there are 10 times more capitalists than workers, then each capitalist appropriates 12.34 times more of the production than a worker.\n"
          ]
        }
      ]
    },
    {
      "cell_type": "code",
      "source": [
        "c"
      ],
      "metadata": {
        "id": "1b_2KtOgs9qy",
        "outputId": "b4ec59f9-627d-443b-ac05-b914e5c59fd8",
        "colab": {
          "base_uri": "https://localhost:8080/"
        }
      },
      "execution_count": 120,
      "outputs": [
        {
          "output_type": "execute_result",
          "data": {
            "text/plain": [
              "array([5.23809524, 8.57142857])"
            ]
          },
          "metadata": {},
          "execution_count": 120
        }
      ]
    },
    {
      "cell_type": "code",
      "source": [],
      "metadata": {
        "id": "2B_5vxYUtCaa"
      },
      "execution_count": null,
      "outputs": []
    }
  ]
}