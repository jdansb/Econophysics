{
  "nbformat": 4,
  "nbformat_minor": 0,
  "metadata": {
    "colab": {
      "provenance": [],
      "authorship_tag": "ABX9TyOrQrqTiFa98VLZTI2WfM6q",
      "include_colab_link": true
    },
    "kernelspec": {
      "name": "python3",
      "display_name": "Python 3"
    },
    "language_info": {
      "name": "python"
    }
  },
  "cells": [
    {
      "cell_type": "markdown",
      "metadata": {
        "id": "view-in-github",
        "colab_type": "text"
      },
      "source": [
        "<a href=\"https://colab.research.google.com/github/jdansb/Econophysics/blob/main/files/Probabilistic_Framework.ipynb\" target=\"_parent\"><img src=\"https://colab.research.google.com/assets/colab-badge.svg\" alt=\"Open In Colab\"/></a>"
      ]
    },
    {
      "cell_type": "markdown",
      "source": [
        "My goal is to discuss at least Part I (*Foundations*) of the book *How Labor Powers the Global Economy: A Labor Theory of Capitalism*. We have already started this discussion in the previous text [*Possible Measure of L-Content*](https://github.com/jdansb/Econophysics/blob/main/files/medida_do_trabalho_contido.ipynb), and now we continue with Chapter 3 (*Probabilistic Framework*).\n",
        "\n",
        "Similar to the [discussion on the law of value](https://github.com/jdansb/Econophysics/blob/main/files/aproximacao_estatistica_da_lei_do_valor_ABM.ipynb) presented in *Classical Econophysics*, a central point of the statistical approach is to establish a connection between two spheres of capitalist market economies: the visible sphere of exchange and market prices, and the opaque but fundamental sphere of production and labor content.  [The social architecture of capitalism](https://github.com/jdansb/Econophysics/blob/main/files/social_architecture.ipynb), for example, is primarily concerned with the visible sphere.\n"
      ],
      "metadata": {
        "id": "XnH_oK-iDef_"
      }
    },
    {
      "cell_type": "markdown",
      "source": [
        "Let us assume that in a society each worker has a contract with their employer that stipulates their wage rate (for example, wage per hour). We can list all existing contracts as\n",
        "$$\\boldsymbol{W} = \\left[ W_{1}, \\dots, W_{n} \\right].\n",
        "$$\n",
        "Now suppose that a contract $i$ lasted for a total period $T_{i}$; then this contract resulted in a wage income of $W_{i}T_{i}$. We want to characterize the distribution of the wage rate among all contracts within a given period. Let us denote by $P$ the proportion of the total working time under a contract within any wage interval $W$. That is, for example:\n",
        "\n",
        "$$P\\left(a \\leq W \\leq b\\right)$$\n",
        "\n",
        "denotes, considering the total working time performed under any contract during a given period (for instance, one year), the proportion of work that was carried out under a contract with a wage rate between $a$ and $b$. $W$ can be treated as a random variable.\n",
        "\n",
        "**Some constraints on the distribution of wage rates**:\n",
        "- The existence of a lower bound for the wage rate that is necessary to sustain the reproduction of the labor force. In some places, this may be defined as the minimum wage.\n",
        "- A constraint is given by the average wage rate over the total employed working time. Let us call this quantity the “expected” wage rate, denoted by $E_{W}$:\n",
        "$$\n",
        "E_{W} = \\frac{\\text{total income due to labor}}{\\text{total working time}}\n",
        "$$\n",
        "- The total wage income is limited by the total net production $\\beta_{out}$, quantified by the monetary price $M\\left(\\beta_{out}\\right)$, which is often referred to as the “value added” in the whole economy.\n",
        "- The total working time depends on the size of the labor force and the structure of employability.\n",
        "\n",
        "With this, we can then move on to the second part of the appendix Mathematical Technicalities: Distribution of Wage Rates.\n"
      ],
      "metadata": {
        "id": "DSiM8J_ThdAh"
      }
    },
    {
      "cell_type": "markdown",
      "source": [
        "**Average Wage Rate**\n",
        "\n",
        "Let us consider that $L$ hours of labor were applied to production during a given period of time. We then have a labor contract $i$ that pays a rate $W_i$ per hour over a period of $T_i$ hours. We will work by treating the wage rate as a random variable, where each contract has an associated probability weight:\n",
        "\n",
        "$$\\pi_i = T_i / L$$\n",
        "\n",
        "Then\n",
        "\n",
        "$$P\\left(a \\leq W \\leq b\\right)$$\n",
        "\n",
        "is the probability that, when selecting a random contract, it has a wage rate between $a$ and $b$.   The average wage rate is then simply:\n",
        "\n",
        "$$E_{W} = \\sum_{i} \\frac{T_iW_i}{L}=\\sum_{i} \\pi_{i} W_{i}$$\n",
        "\n",
        "The total wage paid under a contract is given by $V_i = W_i T_i$, so we can express the average wage rate as:\n",
        "\n",
        "$$E_{W} = \\sum_{i} \\pi_{i} W_{i} = \\sum_{i} \\left(\\frac{T_{i}}{L}\\right)\\left(\\frac{V_{i}}{T_{i}}\\right) = \\sum_{i} \\left(\\frac{V_{i}}{L}\\right) = \\frac{\\sum_{i} V_{i}}{L}$$\n",
        "\n",
        "That is, the ratio between the total income due to wages received during the period and the total working time involved in these contracts.\n"
      ],
      "metadata": {
        "id": "YR7iVk3HBL2W"
      }
    },
    {
      "cell_type": "markdown",
      "source": [
        "**Uncoordinated Labor Market and Distribution of Wage Rates**\n",
        "\n",
        "For simplicity, let us consider that all labor contracts have the same duration: one hour. Thus, if we have $L$ hours of labor under contract, it means that we have $L$ different contracts. Let us also partition the range of wages into $m$ separate intervals:\n",
        "\n",
        "$$\\left[\\omega_{1}|\\omega_{2}|\\dots|\\omega_{m}\\right]$$\n",
        "\n",
        "We can then distribute the $L$ labor contracts into $m$ disjoint boxes, that is, each contract necessarily belongs to one and only one interval. For a single contract, we have $m$ different microstates (one for each possible interval where that contract may fall); for two contracts, we have $m \\cdot m = m^2$ possibilities. Each contract can be in any of the $m$ intervals, or, more generally, for $L$ contracts, we have $m^L$ possible microstates.\n",
        "\n",
        "The proportion of total labor that receives a wage rate within a specific interval $\\omega_i$ is written as:\n",
        "\n",
        "$$p_{i} = P\\left(W \\in \\omega_{j}\\right)$$\n",
        "\n",
        "Thus, the $m$ parameters $\\left(p_{1}, \\dots, p_{m}\\right)$ characterize the distribution of wage rates. In other words, a given set of parameters specifies the macroeconomic configuration. For any macrostate, several alternative microeconomic configurations are possible. For example, if we toss two coins, A and B, into the air, one macrostate could be obtaining exactly one \"head\" as the outcome. But we can achieve this macrostate through two different microstates: coin A shows heads (and B tails), or coin B shows heads (and A tails).\n",
        "\n",
        "The number $N$ of microstates compatible with the same macrostate is given by:\n",
        "\n",
        "$$\\left(p_{1}, \\dots, p_{m}\\right) \\rightarrow N = \\frac{L!}{\\left(Lp_{1}\\right)! \\dots \\left(Lp_{m}\\right)!}$$\n",
        "\n",
        "Where $N$ is the number of compatible microstates, which is called the multinomial coefficient $\\Omega\\left(Lp_{1}, \\dots, Lp_{m}\\right)$. To reach this result, let us think of an example where we have only $m = 2$ intervals. For any macrostate, it must have exactly $Lp_1$ contracts in interval 1. Thus, we have a binomial coefficient $\\left(\\begin{array}{c} L \\\\ Lp_{1} \\end{array}\\right)$ that describes in how many ways we can select $Lp_1$ different contracts out of a total of $L$ existing contracts, regardless of order. Similarly, for the second interval, there will remain $L - Lp_1$ contracts, so that we have $\\left(\\begin{array}{c} L - Lp_1 \\\\ Lp_{2} \\end{array}\\right)$.\n",
        "\n",
        "$$\\Omega =  \\left(\\begin{array}{c} L \\\\ Lp_{1} \\end{array}\\right)\n",
        "\\left(\\begin{array}{c} L - Lp_1 \\\\ Lp_{2} \\end{array}\\right) =\\frac{L!}{\\left(Lp_{1}\\right)!\\left(L - Lp_{1}\\right)!} \\frac{\\left(L - Lp_{1}\\right)!}{\\left(Lp_{2}\\right)!\\left(L - Lp_{1} - Lp_{2}\\right)!}\n",
        "= \\frac{L!}{\\left(Lp_{1}\\right)!\\left(Lp_{2}\\right)!}\\frac{1}{\\left(L - Lp_{1} - Lp_{2}\\right)!}$$\n",
        "\n",
        "And since $L = Lp_{1} + Lp_{2}$ and $0! = 1$, then:\n",
        "\n",
        "$$\\Omega = \\frac{L!}{\\left(Lp_{1}\\right)!\\left(Lp_{2}\\right)!}$$\n",
        "\n",
        "Evidently, if we generalize this to $m$ intervals, we recover $N$.  Let us then assume that the configuration $\\left(p^*_{1}, \\dots, p^*_{m}\\right)$ is the one that possesses the maximum number $N^*$ of compatible microstates. In an uncoordinated economic system, it is to be expected that most of the observed microstates will conform to this macrostate, remaining in it most of the time compared to other alternatives.  The distribution of wage rates that emerges from this system describes a statistical equilibrium of the system.\n",
        "\n",
        "Furthermore, we can make a quick remark about the shape of the distribution. If there were no constraints, all $m$ parameters would be equal, and all intervals would have the same probability. However, the constraints determine the distribution, with the macrostate $(p_1^*, \\dots, p_m^*)$ being the macrostate with the maximum number of microstates. These constraints result in a distorted distribution.\n",
        "\n",
        "Finally, accepting the hypothesis[^1] that if $L$ is large enough, then $N^*$ will be much greater than any $N$ of another macrostate, we can ensure that the system will tend to and remain in this macrostate for most of the time.\n"
      ],
      "metadata": {
        "id": "-zt9ikwFQhVQ"
      }
    },
    {
      "cell_type": "markdown",
      "source": [
        "**Stable Features of Distribution**\n",
        "\n",
        "Para prosseguir o estudo e investigor os stable features of distribution, precisamos definir a fração apropriada pelos trabalhadores do valor total adicionado na academia. Ela é definida como:\n",
        "\n",
        "\n",
        "$$\\omega=\\frac{\\text{total wage income}}{M\\left(\\beta_{out}\\right)}$$\n",
        "\n"
      ],
      "metadata": {
        "id": "MRVXW4SZsk-d"
      }
    },
    {
      "cell_type": "markdown",
      "source": [
        "**Commodity-Products and Their Labor-Contents**\n",
        "\n",
        "Before proceeding, I will briefly recall the definitions presented in Chapter 2:\n",
        "\n",
        "* *Usable*: Any object or service of use to human beings can be called a usable.  \n",
        "* *Gift of nature*: Usables for which no input of human labor is used, directly or indirectly, to make them available. Examples of such usables are sunlight, wind, etc.  \n",
        "* *Product*: A usable that does require direct or indirect input of labor for its creation. The kinds of direct inputs that go into a product are one of the following three: gifts of nature, labor, and previously produced products. Previously created products themselves require the same three kinds of direct input; by repeating this decomposition several times over, we are left with only two kinds of ultimate inputs: gifts of nature and labor.  \n",
        "* *Commodities*: A special class of usables that presuppose highly abstract notions such as ownership and enforceable entitlement. A commodity is realized in a transaction of exchange or sale between a seller and a buyer. For a usable to become a commodity, therefore, it must be owned by the seller. While both products and commodities are usables, they are by no means identical categories; they merely overlap.  \n",
        "* *Commodity-product*: The overlap between the two categories—products that are also commodities.  \n",
        "* *Money*: A special kind of commodity—it is universal in the sense of being acceptable in exchange for any commodity.  \n",
        "* *Price*: A sum of money exchanged for the transfer of ownership of the commodity.  \n",
        "* *Rent*: The price of an entitlement to the use—often for a definite period of time—of some usable.  \n",
        "* *Loan of money*: A special case of renting; the rent paid in this case is interest, whose rate is measured as a percentage (of the total sum lent) divided by a unit of time.  \n",
        "* *Labor power*: The capacity to perform concrete labor tasks; it is a rather unique product. It requires both gifts of nature and labor as inputs. The latter includes the provision of education, training, shelter, as well as consumable products used to sustain the worker. But unlike any other product, labor power also produces an ultimate input: labor itself. In addition, labor power, being a component of an entire personality, unlike almost all major products, is “produced” outside the direct control of private firms, usually within the intimate family sphere. This is an important asymmetry that assigns to labor power a central role in the process of economic reproduction.\n"
      ],
      "metadata": {
        "id": "KcKmK9B1BfSd"
      }
    },
    {
      "cell_type": "markdown",
      "source": [
        "# A tradução parou aqui"
      ],
      "metadata": {
        "id": "A5Wex68NlKHV"
      }
    },
    {
      "cell_type": "markdown",
      "source": [
        "Continuando, vamos trabalhar cntão com commmodty-products. isto é, bens que sáo produzidos por trabalhadores e comprados e vendidos a diversos preos no mercado. Queremos investigar como o o preço se liga ao tempo de trabalho.\n",
        "\n",
        "Em um período de tempo como um ano, uma grande quantidade de produtos é compravada e vendida no mercado, podemos construir uma lita de todas transações em um dado período de tempo e região como {$1,2,3,...$}. Esses produtos sã oproduzidos e trocados sob diversas circunstâncias diferentes. Agora supondo uma troca que envolva um produto com labor content $L_i$ e uma quantidade $M_i$ de dinheiro, então podemos definir um price rate desse produto individual como $\\Psi_i=M_i/L_i$ medido em dólares por horas, e vamos chamar esta quantidade de preço específico.\n",
        "\n",
        "Como os preços tem uma importânia central para as firmas que produzem e compram mercadorias, como para as casas que consomem os produtos, estamos interessados em caracterizar os preços ao longo de todas transações.\n",
        "\n",
        "Como cada transaçaão envolve uma quantidade de entrada de trabalho, cada transação é uma compra e venda de uma quantidade definida de labor content. Então vamos considerar como o labor content comprando e vendido ao longo de um dado ano é distribuído ao longo de diferentes preços. Vamos denotar $P$ como a proporção  de labor content comprado e vendido  dentro de um dado intevalo de preço específico $\\Psi$ entre $a$ e $b$ como $P(a\\leq \\Psi \\leq b)$.\n",
        "\n",
        "O preço específico em uma dada transação pode ser indeterminado e imprevisível, mas a proporção de labor content em qualquer dado intervalo de preço arbitrário não pode ser arbitrário, vamos considerar algumas restrições globais na sequência.\n"
      ],
      "metadata": {
        "id": "NOPsO77JHb5W"
      }
    },
    {
      "cell_type": "markdown",
      "source": [
        "**Restrições na distribuição dos preços específicos**\n",
        "\n",
        "Começamos relacionando a taxa $\\Psi$ aos custos de produção. O trabalho direto aplicado na produção é pago como uma certa quantidade direta de salário. Mas as entradas non-labor usadas na produção também tem seus custos diretos em salário também. Prosseguindo através da cadeia de produção obtemos então o custo total de salário. Vamos decompor o preço específico então:\n",
        "\n",
        "$$\\Psi=\\frac{\\text{price}}{\\text{labor content}}=\\frac{\\text{total wage costs}}{\\text{labor content}}\\cdot\\frac{\\text{price}}{\\text{total wage costs}}$$\n",
        "\n",
        "O primeiro fator tem a unidade de dólares por hora, e nos dá o salário médio por hora pago na produção do bem. O segundo item é sem unidade e nso dá uma razao entre o preço de troca da mercadoria e seu custo de produção, de forma que é esperado que seja maior que 1.\n",
        "\n",
        "Podemos ainda decompor o preço de um produto entre o custo com o input non-labor e a parte residual: o valor adicionado pela firma. É preciso ser dito sobre este *valor adicionado*:\n",
        "- É dele que os salários são paagos e os lucros são derivados.\n",
        "\n"
      ],
      "metadata": {
        "id": "zdQuhOwOm4aj"
      }
    },
    {
      "cell_type": "markdown",
      "source": [
        "30"
      ],
      "metadata": {
        "id": "SfqbL6u8gHrc"
      }
    },
    {
      "cell_type": "markdown",
      "source": [
        "**Log-normal Approximation**"
      ],
      "metadata": {
        "id": "ERODcX1BpPrj"
      }
    },
    {
      "cell_type": "markdown",
      "source": [
        "[^1]: O livro recomenda  uma fonte sobre isso, eu gostaria de estudar essa afirmação."
      ],
      "metadata": {
        "id": "y5NeLxbGqazu"
      }
    },
    {
      "cell_type": "markdown",
      "source": [
        "- **wage inequality**\n",
        "- **derived wage sshare**"
      ],
      "metadata": {
        "id": "Zn9CNdnQPAlf"
      }
    },
    {
      "cell_type": "code",
      "source": [],
      "metadata": {
        "id": "2fyN1nSXOKi4"
      },
      "execution_count": null,
      "outputs": []
    },
    {
      "cell_type": "markdown",
      "source": [],
      "metadata": {
        "id": "E6Dad30_NoQG"
      }
    },
    {
      "cell_type": "code",
      "source": [
        "The total wage income is limited by the overall outpu\n",
        "121-[126-130]\n",
        "21-26-41"
      ],
      "metadata": {
        "id": "3S7weMlO7N4i",
        "colab": {
          "base_uri": "https://localhost:8080/",
          "height": 108
        },
        "outputId": "33739eb6-30ec-4414-9a29-9460b0d17c21"
      },
      "execution_count": null,
      "outputs": [
        {
          "output_type": "error",
          "ename": "SyntaxError",
          "evalue": "invalid syntax (ipython-input-813059631.py, line 1)",
          "traceback": [
            "\u001b[0;36m  File \u001b[0;32m\"/tmp/ipython-input-813059631.py\"\u001b[0;36m, line \u001b[0;32m1\u001b[0m\n\u001b[0;31m    The total wage income is limited by the overall outpu 121-[126-130]\u001b[0m\n\u001b[0m        ^\u001b[0m\n\u001b[0;31mSyntaxError\u001b[0m\u001b[0;31m:\u001b[0m invalid syntax\n"
          ]
        }
      ]
    },
    {
      "cell_type": "markdown",
      "source": [
        "## Exemplo"
      ],
      "metadata": {
        "id": "py1IljlMRfSz"
      }
    },
    {
      "cell_type": "code",
      "source": [
        "import numpy as np\n",
        "\n",
        "# Parâmetros\n",
        "N = 1000       # quantidade de números\n",
        "media = 0      # média da distribuição\n",
        "desvio = 1     # desvio padrão\n",
        "\n",
        "# Gerando o vetor\n",
        "vetor = np.random.normal(loc=media, scale=desvio, size=N)\n",
        "\n",
        "print(vetor)\n"
      ],
      "metadata": {
        "id": "8t9L95oNO7f2"
      },
      "execution_count": null,
      "outputs": []
    },
    {
      "cell_type": "markdown",
      "source": [
        "**Características de uma distribuição estável**"
      ],
      "metadata": {
        "id": "VXrazUoZKYcZ"
      }
    }
  ]
}