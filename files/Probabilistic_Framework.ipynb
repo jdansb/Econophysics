{
  "nbformat": 4,
  "nbformat_minor": 0,
  "metadata": {
    "colab": {
      "provenance": [],
      "authorship_tag": "ABX9TyOw0mWs3SUcu4X7oj+40wez",
      "include_colab_link": true
    },
    "kernelspec": {
      "name": "python3",
      "display_name": "Python 3"
    },
    "language_info": {
      "name": "python"
    }
  },
  "cells": [
    {
      "cell_type": "markdown",
      "metadata": {
        "id": "view-in-github",
        "colab_type": "text"
      },
      "source": [
        "<a href=\"https://colab.research.google.com/github/jdansb/Econophysics/blob/main/files/Probabilistic_Framework.ipynb\" target=\"_parent\"><img src=\"https://colab.research.google.com/assets/colab-badge.svg\" alt=\"Open In Colab\"/></a>"
      ]
    },
    {
      "cell_type": "markdown",
      "source": [
        "Meu objetivo é discutir pelo menos o parte I (Foundations) do livro How Labor\n",
        "Powers the Global Economy: A Labor Theory of Capitalism. Já começamos a discussão no texto anterior [Possible Measure of L-Content](https://github.com/jdansb/Econophysics/blob/main/files/medida_do_trabalho_contido.ipynb) e agora continuamos com o capítulo 3 (Probabilistic Framework).\n",
        "\n",
        "\n",
        "Semelhante a discussão também feita sobre a lei do valor apresentada no Classical Econophysics, um ponto central da abordagem estatística é estabelecer uma conexão entre duas esferas da capitalist market economies: the visible sphere of exchange and market prices and the opaque but fundamental\n",
        "sphere of production and labor content. A arquitetura social do capitalismo por exemplo, se ocupa principalmente da esfera visivel."
      ],
      "metadata": {
        "id": "XnH_oK-iDef_"
      }
    },
    {
      "cell_type": "markdown",
      "source": [
        "Vamos assumir que em uma sociedade cada trabalhador tem um contrato com seu empregador que estipula sua taxa de salário (salário por hora, por exemplo). Podemos listar os contratos existentes fazendo: $\\boldsymbol{W}=\\left[W_{1},\\dots,W_{n}\\right]$. Supondo agora então um contrato $i$ que se estendeu por um período total $T_{i}$, então este contrato resultou em um rendimento salarial no valor de  $W_{i}T_{i}$.\n",
        "\n",
        "Queremos cracterizar a distribuição da taxa salarial entre todos os contratos dentro de um período. Vamos denotar $P$ a proporção do tempo total de trabalho sob um contrato dentro de qualquer intervalo de $W$. Isto é, por exemplo:\n",
        "\n",
        "$$P\\left(a\\leq W\\leq b\\right)$$\n",
        "\n",
        "denota, considerando o tempo total de trabalho exercido sob qualquer contrato dentro de um período (um ano por exemplo), a proporção de trabalho que foi realizada o sob um contrato com uma taxa salarial entre $a$ e $b$. $W$ pode ser tratado como uma variável aleatória.\n",
        "\n",
        "**Algumas restrições na distribuição das taxas de salário**:\n",
        "- A existência de um limite inferior para taxa de salário que é necessário para sustentar a reprodução da força de trabalho. Em alguns lugares isso pode ser definido como o salário mínimo.\n",
        "- Uma restrição é dada pela taxa de salário média sobre todo o tempo de trabalho empregado. Vamos chamar essa quantidad de taxa de salário 'esperada', dada por $E_{W}$:\n",
        "$$E_{W}=\\frac{\\text{renda total devido ao trabalho}}{\\text{tempo total de trabalho}}$$\n",
        "- A renda total do salário é limitada pela produção líquida total $\\beta_{out}$, quantificado pelo preço monetário $M\\left(\\beta_{out}\\right)$, que muitas vezes é chamado de 'valor adicionado' em toda economia.\n",
        "- O tempo total de trabalho depende do tamanho da força de trabalho e da estrutura da empregabilidade.\n",
        "\n",
        "Com isso podemos então avançar para o a segunda parte do anexo \"MathematicalTechnicalities\": Distribution of Wage Rates."
      ],
      "metadata": {
        "id": "mYZmrrVL9dRA"
      }
    },
    {
      "cell_type": "markdown",
      "source": [
        "**Taxa salarial média**\n",
        "\n",
        "Vamos considerar que $L$ horas de trabalho foram aplicadas na produção em um dado período de tempo, temos então um contrato de trabalho $i$ que paga uma taxa $W_i$ por hora durante um período de $T_i$ horas.\n",
        "\n",
        "Vamos trabalhar então considerando a taxa de salário uma variável aleatória, onde para cada contrato tem um peso de probabilidade associado:\n",
        "\n",
        "$$\\pi_i=T_i/L$$\n",
        "\n",
        "Então\n",
        "\n",
        "$$P\\left(a\\leq W\\leq b\\right)$$\n",
        "\n",
        "é a probabilidade de ao selecionarmos um contatrato aleatório, que ele tenha uma taxa de salário entre $a$ e $b$. Então taxa de salário média é apenas:\n",
        "\n",
        "$$E_{W}=\\sum_{i}\\pi_{i}W_{i}$$\n",
        "\n",
        "O salário total pago por um contrato é dado por $V_i=W_iT_i$, então podemos expressar a taxa de salário médio como:\n",
        "\n",
        "$$E_{W}=\\sum_{i}\\pi_{i}W_{i}=\\sum_{i}\\left(\\frac{T_{i}}{L}\\right)\\left(\\frac{V_{i}}{T_{i}}\\right)=\\sum_{i}\\left(\\frac{V_{i}}{L}\\right)=\\frac{\\sum_{i}V_{i}}{L}$$\n",
        "\n",
        "Ou seja, a razão entre a renda total devido ao salário recebida durante o período e o tempo total de trabalho envolvido nestes contratos."
      ],
      "metadata": {
        "id": "YR7iVk3HBL2W"
      }
    },
    {
      "cell_type": "markdown",
      "source": [
        "**Uncoordinated Labor Market and Distribution of Wage Rates**\n",
        "\n",
        "Para simplicidade vamos considerar que todos os contratos de trabalho tem a mesma duração: uma hora. Então se temos $L$ horas de trabalho sob contrato, significa que temos $L$ diferentes contratos.  Vamos também particionar o intervalo de salários em $m$ intervalos separados:\n",
        "\n",
        "$$\\left[\\omega_{1}|\\omega_{2}|\\dots|\\omega_{m}\\right]$$\n",
        "\n",
        "Podemos distribuir então os $L$ contratos de trabalho em $m$ caixas disjuntas, isto é, cada contrato pertence necessariamente a um,e unicamente um intervalo. Então para um contrato, temos $m$ microestados diferente (um para cada intervalo possível onde esse microestado pode estar), para dois estados temos $m\\cdot m = m^2$, cada um dos contratos pode estar em qualquer um dos $m$ intervalos, ou de forma geral, para $L$ contratos temos $m^L$ possíveis microestados.\n",
        "\n",
        "A proporção do trabalho total que recebe a taxa de salário em um intervalo específico $\\omega_i$ é escrito como:\n",
        "\n",
        "$$p_{i}=P\\left(W\\in\\omega_{j}\\right)$$\n",
        "\n",
        "Então os $m$ parâmetros $\\left(p_{1},\\dots,p_{m}\\right)$ caracterizam ad istribuição das taxas de salário. Ou em outras palavras, um conjunto de parâmetros espefficia a configuração macroeconômica. Para qualquer macroestado, diversas alternativas microeconômicas são possíveis. Por exemplo, se lançamos duas moedas, A B, no ar, um macroestado é obtermos apenas uma \"cara\" como resultado. Mas podemos obter este macroestado através de dois microestados diferentes: a moeda A pode resultar em cara (e B coroa) ou a moeda B pode resultar em cara (e A coroa).\n",
        "\n",
        "O número $N$ de microestados compatíveis com um mesmo macroestado é dado por:\n",
        "\n",
        "$$\\left(p_{1},\\dots,p_{m}\\right)\\rightarrow N=\\frac{L!}{\\left(Lp_{1}\\right)!\\dots\\left(Lp_{m}\\right)!}$$\n",
        "\n",
        "Onde N é o número de micro estados compatíveis, isto é chamado de coeficiente multinomial $\\Omega\\left(Lp_{1},\\dots,Lp_{1}p_{m}\\right)$. Para chegarmos neste resultado, vamos pensar em um\n",
        "exemplo onde temos apenas $m=2$ intervalos. Então para um macro estado qualquer, ele dever ter exatamente $Lp_1$ contratos no intervalo 1. Então temos um coeficiente binomial $\\left(\\begin{array}{c} L\\\\ Lp_{1} \\end{array}\\right)$ que descreve de quantas formas podemos retirar $Lp_1$ diferentes contratos de um total de $L$ contratos existentes, sem importar a ordem. De forma semelhante para o segundo intervalo vai restar $L-Lp_1$ contratos de forma que temos  $\\left(\\begin{array}{c} L-Lp_1\\\\ Lp_{2} \\end{array}\\right)$;\n",
        "\n",
        "$$\\Omega=\\frac{L!}{\\left(Lp_{1}\\right)!\\left(L-Lp_{1}\\right)!}\\frac{\\left(L-Lp_{1}\\right)!}{\\left(Lp_{2}\\right)!\\left(L-Lp_{1}-Lp_{2}\\right)!}=\\frac{L!}{\\left(Lp_{1}\\right)!\\left(Lp_{2}\\right)!}\\frac{1}{\\left(L-Lp_{1}-Lp_{2}\\right)!}$$\n",
        "\n",
        "E como $L=Lp_{1}+Lp_{2}$ e $0!=1$ então:\n",
        "\n",
        "$$\\Omega=\\frac{L!}{\\left(Lp_{1}\\right)!\\left(Lp_{2}\\right)!}$$\n",
        "\n",
        "Evidentemente se generalizarmos para $m$ intervalos, recuperamos então o $N$. Então vamos assumir que a configuração $\\left(p^*_{1},\\dots,p^*_{m}\\right)$ é a que possui o número máximo $N^*$ de microestados compatíveis. Então em um sistema econômico descoordenado é de esperar que a maior parte do miscroestados exibidos se ajustem a este macroestado, permanecendo então neste macroestado na maior parte do tempo em comparação com outras alternativas. A distribuição de taxas de salário que eemerge deste sistema descreve um equilíbrio estatístico do sistema.\n",
        "\n",
        "Além disso, podems fazer um rápido comentário sobre o formato da distribuição. se nao houvesse restrições, todos os parâmetros $m$ seriam iguais e todos intervalos teriam a mesma pribabilidade, porém as restrições determinam a distribuição, sendo o macro-estado ($p_1^*,...,p_m^*$) o macro estado com máximo número de microestados. Estas restrições resultam em uma distribuição distorcida.\n",
        "\n",
        "Além disso, aceitando a hipótese [^1] de que se $L$ for grande o suficiente, então $N^*$ séra muito maior que qualquer  $N$ de outro marcro estado, garantindo que o sistema tenderá e permanecerá neste macroestado na maaior parte do tempo.\n",
        "\n"
      ],
      "metadata": {
        "id": "-zt9ikwFQhVQ"
      }
    },
    {
      "cell_type": "markdown",
      "source": [
        "**Stable Features of Distribution**\n",
        "\n",
        "Para prosseguir o estudo e investigor os stable features of distribution, precisamos definir a fração apropriada pelos trabalhadores do valor total adicionado na academia. Ela é definida como:\n",
        "\n",
        "\n",
        "$$\\omega=\\frac{\\text{total wage income}}{M\\left(\\beta_{out}\\right)}$$\n",
        "\n"
      ],
      "metadata": {
        "id": "MRVXW4SZsk-d"
      }
    },
    {
      "cell_type": "markdown",
      "source": [
        "**Produtos-mercadorias e seus labor-contents**\n",
        "\n",
        "\n",
        "Antes de prosseguir, eu vou retomar rapidamente definições apresentadas no capítulo 2:\n",
        "\n",
        "* *Usable*: Any object or service of use to human beings can be called a usable.\n",
        "* *Gift of nature*: usables that no input of human labor is used, directly or indirectly, to make them available. Examples of\n",
        "such usables are sunlight, wind, etc.\n",
        "* *Product*: A usable that does require direct or indirect input of labor for its creation.  The kinds of direct inputs that go into a product are one of\n",
        "the following three: gifts of nature, labor, and previously produced products.  Previously created products require themselves the same three kinds of direct input, by repeating this decomposition several times over, we are left with only two kinds\n",
        "of ultimate inputs: gifts of nature and labor.\n",
        "* *Commodities*: a special class of usables that presuppose highly abstract notions such as ownership and enforceable entitlement. A commodity is realized in a transaction of exchange or a sale, between seller and buyer.  For a usable to become a commodity, therefore, it must be owned\n",
        "by the seller. While both products and commodities are usables, they are by no means identical\n",
        "categories; they merely overlap.\n",
        "* *Commodity-product*:  The overlap between the two categories: products that are also commodities.\n",
        "* *Money*:  a special kind of commodity: it is universal in the sense of being acceptable in exchange for any commodity.\n",
        "* *Price*: A sum of money, in exchange for the transfer of ownership of the commodity.\n",
        "* *Rent*:  it is the price of an entitlement to the use—often for a definite period of time of some usable.\n",
        "* *Loan of money*:  is a special case of renting; and the rent paid in this case is interest, whose rate is measured in percentage (of the total sum paid) divided by a unit of time.\n",
        "* *Labor power*:it is the capacity to perform concrete labor tasks, is a rather unique product. It requires both gifts of nature and labor as inputs. The latter includes provision of education, training, shelter as well as consumable products used to sustain a worker. But unlike any other product, labor power also produces an ultimate input: labor. In addition, labor power, being a component of a whole personality, unlike almost all major products, is ‘produced’ outside the direct control of private firms, usually in the intimate family fold. This is an important asymmetry which allocates to labor power a central role in the process of economic reproduction."
      ],
      "metadata": {
        "id": "KcKmK9B1BfSd"
      }
    },
    {
      "cell_type": "markdown",
      "source": [
        "Continuando, vamos trabalhar cntão com commmodty-products. isto é, bens que sáo produzidos por trabalhadores e comprados e vendidos a diversos preos no mercado. Queremos investigar como o o preço se liga ao tempo de trabalho.\n",
        "\n",
        "Em um período de tempo como um ano, uma grande quantidade de produtos é compravada e vendida no mercado, podemos construir uma lita de todas transações em um dado período de tempo e região como {$1,2,3,...$}. Esses produtos sã oproduzidos e trocados sob diversas circunstâncias diferentes. Agora supondo uma troca que envolva um produto com labor content $L_i$  "
      ],
      "metadata": {
        "id": "NOPsO77JHb5W"
      }
    },
    {
      "cell_type": "markdown",
      "source": [
        "**Log-normal Approximation**"
      ],
      "metadata": {
        "id": "ERODcX1BpPrj"
      }
    },
    {
      "cell_type": "markdown",
      "source": [
        "[^1]: O livro recomenda  uma fonte sobre isso, eu gostaria de estudar essa afirmação."
      ],
      "metadata": {
        "id": "y5NeLxbGqazu"
      }
    },
    {
      "cell_type": "markdown",
      "source": [
        "- **wage inequality**\n",
        "- **derived wage sshare**"
      ],
      "metadata": {
        "id": "Zn9CNdnQPAlf"
      }
    },
    {
      "cell_type": "code",
      "source": [],
      "metadata": {
        "id": "2fyN1nSXOKi4"
      },
      "execution_count": null,
      "outputs": []
    },
    {
      "cell_type": "markdown",
      "source": [],
      "metadata": {
        "id": "E6Dad30_NoQG"
      }
    },
    {
      "cell_type": "code",
      "source": [
        "The total wage income is limited by the overall outpu\n",
        "121-[126-130]\n",
        "21-26-41"
      ],
      "metadata": {
        "id": "3S7weMlO7N4i",
        "colab": {
          "base_uri": "https://localhost:8080/",
          "height": 108
        },
        "outputId": "33739eb6-30ec-4414-9a29-9460b0d17c21"
      },
      "execution_count": null,
      "outputs": [
        {
          "output_type": "error",
          "ename": "SyntaxError",
          "evalue": "invalid syntax (ipython-input-813059631.py, line 1)",
          "traceback": [
            "\u001b[0;36m  File \u001b[0;32m\"/tmp/ipython-input-813059631.py\"\u001b[0;36m, line \u001b[0;32m1\u001b[0m\n\u001b[0;31m    The total wage income is limited by the overall outpu 121-[126-130]\u001b[0m\n\u001b[0m        ^\u001b[0m\n\u001b[0;31mSyntaxError\u001b[0m\u001b[0;31m:\u001b[0m invalid syntax\n"
          ]
        }
      ]
    },
    {
      "cell_type": "markdown",
      "source": [
        "## Exemplo"
      ],
      "metadata": {
        "id": "py1IljlMRfSz"
      }
    },
    {
      "cell_type": "code",
      "source": [
        "import numpy as np\n",
        "\n",
        "# Parâmetros\n",
        "N = 1000       # quantidade de números\n",
        "media = 0      # média da distribuição\n",
        "desvio = 1     # desvio padrão\n",
        "\n",
        "# Gerando o vetor\n",
        "vetor = np.random.normal(loc=media, scale=desvio, size=N)\n",
        "\n",
        "print(vetor)\n"
      ],
      "metadata": {
        "id": "8t9L95oNO7f2"
      },
      "execution_count": null,
      "outputs": []
    },
    {
      "cell_type": "markdown",
      "source": [
        "**Características de uma distribuição estável**"
      ],
      "metadata": {
        "id": "VXrazUoZKYcZ"
      }
    }
  ]
}