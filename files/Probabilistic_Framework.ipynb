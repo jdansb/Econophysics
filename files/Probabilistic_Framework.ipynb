{
  "nbformat": 4,
  "nbformat_minor": 0,
  "metadata": {
    "colab": {
      "provenance": [],
      "authorship_tag": "ABX9TyN6eZ57trzEb70S3rCNNj1b",
      "include_colab_link": true
    },
    "kernelspec": {
      "name": "python3",
      "display_name": "Python 3"
    },
    "language_info": {
      "name": "python"
    }
  },
  "cells": [
    {
      "cell_type": "markdown",
      "metadata": {
        "id": "view-in-github",
        "colab_type": "text"
      },
      "source": [
        "<a href=\"https://colab.research.google.com/github/jdansb/Econophysics/blob/main/files/Probabilistic_Framework.ipynb\" target=\"_parent\"><img src=\"https://colab.research.google.com/assets/colab-badge.svg\" alt=\"Open In Colab\"/></a>"
      ]
    },
    {
      "cell_type": "markdown",
      "source": [
        "Meu objetivo é discutir pelo menos a parte I (Foundations) do livro How Labor\n",
        "Powers the Global Economy: A Labor Theory of Capitalism, incluindo o apêndice B(Mathematical Technicalities) quando relacionado. Já começamos a discussão no texto anterior [Measure of Content Labor](https://github.com/jdansb/Econophysics/blob/main/files/medida_do_trabalho_contido.ipynb) e agora continuamos com o capítulo 3 (Probabilistic Framework).\n",
        "\n",
        "\n",
        "Semelhante a discussão também feita sobre a lei do valor apresentada no Classical Econophysics, um ponto central da abordagem estatística é estabelecer uma conexão entre duas esferas da capitalist market economies: the visible sphere of exchange and market prices and the opaque but fundamental\n",
        "sphere of production and labor content. A arquitetura social do capitalismo por exemplo, se ocupa principalmente da esfera visivel."
      ],
      "metadata": {
        "id": "XnH_oK-iDef_"
      }
    },
    {
      "cell_type": "markdown",
      "source": [
        "## Workers and the Labor Market"
      ],
      "metadata": {
        "id": "1O_C89M07K4N"
      }
    },
    {
      "cell_type": "markdown",
      "source": [
        "Vamos assumir que em uma sociedade cada trabalhador tem um contrato com seu empregador que estipula sua taxa de salário (salário por hora, por exemplo). Podemos listar os contratos existentes fazendo: $\\boldsymbol{W}=\\left[W_{1},\\dots,W_{n}\\right]$. Supondo agora então um contrato $i$ que se estendeu por um período total $T_{i}$, então este contrato resultou em um rendimento salarial no valor de  $W_{i}T_{i}$.\n",
        "\n",
        "Queremos cracterizar a distribuição da taxa salarial entre todos os contratos dentro de um período. Vamos denotar $P$ a proporção do tempo total de trabalho sob um contrato dentro de qualquer intervalo de $W$. Isto é, por exemplo:\n",
        "\n",
        "$$P\\left(a\\leq W\\leq b\\right)$$\n",
        "\n",
        "denota, considerando o tempo total de trabalho exercido sob qualquer contrato dentro de um período (um ano por exemplo), a proporção de trabalho que foi realizada o sob um contrato com uma taxa salarial entre $a$ e $b$. $W$ pode ser tratado como uma variável aleatória.\n",
        "\n",
        "Uma restrição é a existência de um limite inferior para taxa de salário que é necessário para sustentar a reprodução da força de trabalho, em alguns lugares isso pode ser definido como o salário mínimo. Outra restrição é dada pela taxa de salário média sobre todo o tempo de trabalho empregado. Vamos chamar essa quantidad de taxa de salário 'esperada', dada por $E_{W}$:\n",
        "\n",
        "$$E_{W}=\\frac{\\text{renda total devido ao trabalho}}{\\text{tempo total de trabalho}}$$"
      ],
      "metadata": {
        "id": "mYZmrrVL9dRA"
      }
    },
    {
      "cell_type": "markdown",
      "source": [
        "The total wage income is limited by the overall outpu\n",
        "\n",
        "*   Item da lista\n",
        "*   Item da lista\n",
        "\n"
      ],
      "metadata": {
        "id": "YR7iVk3HBL2W"
      }
    },
    {
      "cell_type": "code",
      "source": [
        "The total wage income is limited by the overall outpu\n"
      ],
      "metadata": {
        "id": "3S7weMlO7N4i"
      },
      "execution_count": null,
      "outputs": []
    }
  ]
}