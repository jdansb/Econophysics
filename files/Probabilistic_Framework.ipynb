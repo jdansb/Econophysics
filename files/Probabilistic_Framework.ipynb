{
  "nbformat": 4,
  "nbformat_minor": 0,
  "metadata": {
    "colab": {
      "provenance": [],
      "authorship_tag": "ABX9TyMiKyk4IS3YeKYAB6waf8PY",
      "include_colab_link": true
    },
    "kernelspec": {
      "name": "python3",
      "display_name": "Python 3"
    },
    "language_info": {
      "name": "python"
    }
  },
  "cells": [
    {
      "cell_type": "markdown",
      "metadata": {
        "id": "view-in-github",
        "colab_type": "text"
      },
      "source": [
        "<a href=\"https://colab.research.google.com/github/jdansb/Econophysics/blob/main/files/Probabilistic_Framework.ipynb\" target=\"_parent\"><img src=\"https://colab.research.google.com/assets/colab-badge.svg\" alt=\"Open In Colab\"/></a>"
      ]
    },
    {
      "cell_type": "markdown",
      "source": [
        "Meu objetivo é discutir pelo menos o parte I (Foundations) e/ou o apêndice B (Mathematical Technicalities) do livro How Labor\n",
        "Powers the Global Economy: A Labor Theory of Capitalism. Já começamos a discussão no texto anterior [Possible Measure of L-Content](https://github.com/jdansb/Econophysics/blob/main/files/medida_do_trabalho_contido.ipynb) e agora continuamos com o capítulo 3 (Probabilistic Framework), e mais especificamente o apêndice B.2  (Distribution of Wage Rates).\n",
        "\n",
        "\n",
        "Semelhante a discussão também feita sobre a lei do valor apresentada no Classical Econophysics, um ponto central da abordagem estatística é estabelecer uma conexão entre duas esferas da capitalist market economies: the visible sphere of exchange and market prices and the opaque but fundamental\n",
        "sphere of production and labor content. A arquitetura social do capitalismo por exemplo, se ocupa principalmente da esfera visivel."
      ],
      "metadata": {
        "id": "XnH_oK-iDef_"
      }
    },
    {
      "cell_type": "markdown",
      "source": [
        "Vamos assumir que em uma sociedade cada trabalhador tem um contrato com seu empregador que estipula sua taxa de salário (salário por hora, por exemplo). Podemos listar os contratos existentes fazendo: $\\boldsymbol{W}=\\left[W_{1},\\dots,W_{n}\\right]$. Supondo agora então um contrato $i$ que se estendeu por um período total $T_{i}$, então este contrato resultou em um rendimento salarial no valor de  $W_{i}T_{i}$.\n",
        "\n",
        "Queremos cracterizar a distribuição da taxa salarial entre todos os contratos dentro de um período. Vamos denotar $P$ a proporção do tempo total de trabalho sob um contrato dentro de qualquer intervalo de $W$. Isto é, por exemplo:\n",
        "\n",
        "$$P\\left(a\\leq W\\leq b\\right)$$\n",
        "\n",
        "denota, considerando o tempo total de trabalho exercido sob qualquer contrato dentro de um período (um ano por exemplo), a proporção de trabalho que foi realizada o sob um contrato com uma taxa salarial entre $a$ e $b$. $W$ pode ser tratado como uma variável aleatória.\n",
        "\n",
        "**Algumas restrições**:\n",
        "- A existência de um limite inferior para taxa de salário que é necessário para sustentar a reprodução da força de trabalho. Em alguns lugares isso pode ser definido como o salário mínimo.\n",
        "- Uma restrição é dada pela taxa de salário média sobre todo o tempo de trabalho empregado. Vamos chamar essa quantidad de taxa de salário 'esperada', dada por $E_{W}$:\n",
        "$$E_{W}=\\frac{\\text{renda total devido ao trabalho}}{\\text{tempo total de trabalho}}$$\n",
        "- A renda total do salário é limitada pela produção líquida total $\\beta_{out}$, quantificado pelo preço monetário $M\\left(\\beta_{out}\\right)$, que muitas vezes é chamado de 'valor adicionado' em toda economia.\n",
        "- O tempo total de trabalho depende do tamanho da força de trabalho e da estrutura da empregabilidade.\n",
        "\n",
        "Com isso podemos então avançar para o a segunda parte do anexo \"MathematicalTechnicalities\": Distribution of Wage Rates."
      ],
      "metadata": {
        "id": "mYZmrrVL9dRA"
      }
    },
    {
      "cell_type": "markdown",
      "source": [
        "**Taxa salarial média**\n",
        "\n",
        "Vamos considerar que $L$ horas de trabalho foram aplicadas na produção em um dado período de tempo, temos então um contrato de trabalho $i$ que paga uma taxa $W_i$ por hora durante um período de $T_i$ horas.\n",
        "\n",
        "Vamos trabalhar então considerando a taxa de salário uma variável aleatória, onde para cada contrato tem um peso de probabilidade associado:\n",
        "\n",
        "$$\\pi_i=T_i/L$$\n",
        "\n",
        "Então\n",
        "\n",
        "$$P\\left(a\\leq W\\leq b\\right)$$\n",
        "\n",
        "é a probabilidade de ao selecionarmos um contatrato aleatório, que ele tenha uma taxa de salário entre $a$ e $b$. Então taxa de salário média é apenas:\n",
        "\n",
        "$$E_{W}=\\sum_{i}\\pi_{i}W_{i}$$\n",
        "\n",
        "O salário total pago por um contrato é dado por $V_i=W_iT_i$, então podemos expressar a taxa de salário médio como:\n",
        "\n",
        "$$E_{W}=\\sum_{i}\\pi_{i}W_{i}=\\sum_{i}\\left(\\frac{T_{i}}{L}\\right)\\left(\\frac{V_{i}}{T_{i}}\\right)=\\sum_{i}\\left(\\frac{V_{i}}{L}\\right)=\\frac{\\sum_{i}V_{i}}{L}$$\n",
        "\n",
        "Ou seja, a razão entre a renda total devido ao salário recebida durante o período e o tempo total de trabalho envolvido nestes contratos."
      ],
      "metadata": {
        "id": "YR7iVk3HBL2W"
      }
    },
    {
      "cell_type": "markdown",
      "source": [
        "**Uncoordinated Labor Market and Distribution of Wage Rates**\n",
        "\n",
        "Para simplicidade vamos considerar que todos os contratos de trabalho tem a mesma duração: uma hora. Então se temos $L$ horas de trabalho sob contrato, significa que temos $L$ diferentes contratos.  Vamos também particionar o intervalo de salários em $m$ intervalos separados:\n",
        "\n",
        "$$\\left[\\omega_{1}|\\omega_{2}|\\dots|\\omega_{m}\\right]$$"
      ],
      "metadata": {
        "id": "-zt9ikwFQhVQ"
      }
    },
    {
      "cell_type": "markdown",
      "source": [
        " uncoordinated labor marte\n",
        " log-normal aproxximation\n",
        " wage inequality\n",
        " derived wage sshare"
      ],
      "metadata": {
        "id": "Zn9CNdnQPAlf"
      }
    },
    {
      "cell_type": "code",
      "source": [],
      "metadata": {
        "id": "2fyN1nSXOKi4"
      },
      "execution_count": null,
      "outputs": []
    },
    {
      "cell_type": "markdown",
      "source": [],
      "metadata": {
        "id": "E6Dad30_NoQG"
      }
    },
    {
      "cell_type": "code",
      "source": [
        "The total wage income is limited by the overall outpu 121-[126-130]"
      ],
      "metadata": {
        "id": "3S7weMlO7N4i",
        "colab": {
          "base_uri": "https://localhost:8080/",
          "height": 108
        },
        "outputId": "33739eb6-30ec-4414-9a29-9460b0d17c21"
      },
      "execution_count": 1,
      "outputs": [
        {
          "output_type": "error",
          "ename": "SyntaxError",
          "evalue": "invalid syntax (ipython-input-813059631.py, line 1)",
          "traceback": [
            "\u001b[0;36m  File \u001b[0;32m\"/tmp/ipython-input-813059631.py\"\u001b[0;36m, line \u001b[0;32m1\u001b[0m\n\u001b[0;31m    The total wage income is limited by the overall outpu 121-[126-130]\u001b[0m\n\u001b[0m        ^\u001b[0m\n\u001b[0;31mSyntaxError\u001b[0m\u001b[0;31m:\u001b[0m invalid syntax\n"
          ]
        }
      ]
    },
    {
      "cell_type": "markdown",
      "source": [
        "## Exemplo"
      ],
      "metadata": {
        "id": "py1IljlMRfSz"
      }
    },
    {
      "cell_type": "code",
      "source": [
        "import numpy as np\n",
        "\n",
        "# Parâmetros\n",
        "N = 1000       # quantidade de números\n",
        "media = 0      # média da distribuição\n",
        "desvio = 1     # desvio padrão\n",
        "\n",
        "# Gerando o vetor\n",
        "vetor = np.random.normal(loc=media, scale=desvio, size=N)\n",
        "\n",
        "print(vetor)\n"
      ],
      "metadata": {
        "id": "8t9L95oNO7f2"
      },
      "execution_count": null,
      "outputs": []
    },
    {
      "cell_type": "markdown",
      "source": [
        "**Características de uma distribuição estável**"
      ],
      "metadata": {
        "id": "VXrazUoZKYcZ"
      }
    }
  ]
}