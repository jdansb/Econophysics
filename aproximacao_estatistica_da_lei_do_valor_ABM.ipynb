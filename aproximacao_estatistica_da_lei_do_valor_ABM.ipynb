{
  "nbformat": 4,
  "nbformat_minor": 0,
  "metadata": {
    "colab": {
      "provenance": [],
      "authorship_tag": "ABX9TyNpWzYwHXcPh/4zn6n2dxFV",
      "include_colab_link": true
    },
    "kernelspec": {
      "name": "python3",
      "display_name": "Python 3"
    },
    "language_info": {
      "name": "python"
    }
  },
  "cells": [
    {
      "cell_type": "markdown",
      "metadata": {
        "id": "view-in-github",
        "colab_type": "text"
      },
      "source": [
        "<a href=\"https://colab.research.google.com/github/jdansb/Econophysics/blob/main/aproximacao_estatistica_da_lei_do_valor_ABM.ipynb\" target=\"_parent\"><img src=\"https://colab.research.google.com/assets/colab-badge.svg\" alt=\"Open In Colab\"/></a>"
      ]
    },
    {
      "cell_type": "markdown",
      "source": [
        "# Statistical Approximation of the Law of Value\n",
        "This model is presented in chapter 9 of the book *Classical Econophysics* and also as the article: [*The Emergence of the Law of Value in a Dynamic Simple Commodity Economy*](https://doi.org/10.1080/09538250701661889).  \n",
        "First, we must clearly establish that there is a distinction between value and price:\n",
        "\n",
        "* **Value**: determined by the prevailing technical conditions of production and measured by the socially necessary labor time to produce it.  \n",
        "* **Price**: the amount of money that the commodity yields in the market.  \n",
        "\n",
        "In a theoretical simplification of capitalism (a \"simple commodity economy\"), prices tend to values, and this is what we want to demonstrate.\n"
      ],
      "metadata": {
        "id": "2HPfBeGpcM7m"
      }
    },
    {
      "cell_type": "markdown",
      "source": [
        "## O Modelo\n",
        "\n",
        "São características essenciais do modelo:\n",
        "\n",
        "* É composto por $N$ trabalhadores (identificados por um inteiro $i$ entre 1 e\n",
        "$N$).\n",
        "* Existem $L$ mercadorias (identificadas por um inteiro $j$ entre $1$ e\n",
        "$L$).\n",
        "* Possui uma quantidade total e constante de dinheiro $M=\\sum_{i}^{N}m_{i}$\n",
        "* Cada trabalhador produz uma mercadoria de cada vez.\n",
        "* Cada mercadoria é simples: não exige outra mercadoria para ser produzida\n",
        "e pode ser produzia por um único trabalhador, assim como todos trabalhadores\n",
        "produzem com a mesma eficiência uma mesma mercadoria.\n",
        "* Os agents produzem pra satisfazer suas necessidades."
      ],
      "metadata": {
        "id": "f5vbO0XLaBCu"
      }
    },
    {
      "cell_type": "markdown",
      "source": [
        "### Regra de produção $P_{1}$:\n",
        "\n",
        "* No começo da simulação, cada agente $i$ tem um vetor $\\boldsymbol{e}_{i}=\\boldsymbol{0}$ que indica a quantidade de mercadorias o agente $i$ possui.\n",
        "* A mercadoria $j$ sendo produzida pelo ator $i$ é dado por $A\\left(i\\right)=j$,\n",
        "podemos pensar que existe um vetor $\\boldsymbol{A}$ nos dá o que\n",
        "cada agente $i$ está produzindo no momento.\n",
        "*  Cada mercadoria precisa de $l_{j}$ passos pra ser produzida. Ou\n",
        "seja, a cada passo ela produz $L=1/l_{j}$ unidade da mercadoria. Vamos definir\n",
        "um vetor $\\boldsymbol{l}=\\left(1/l_{1},\\dots,1/l_{L}\\right)=\\left(L_{1},\\dots,L_{L}\\right)$.\n",
        "\n",
        "Então o ator $i$ gera uma unidade da mercadoria $A\\left(i\\right)$\n",
        "a cada $l_{A\\left(i\\right)}$ passos, e como conssequência o elemento\n",
        "do vetor $e_{i}\\left[A_{i}\\left(i\\right)\\right]$ é incrementado em\n",
        "uma unidade."
      ],
      "metadata": {
        "id": "LXoYIFHivr6w"
      }
    },
    {
      "cell_type": "markdown",
      "source": [
        "### Regra de consumo $C_{1}$\n",
        "\n",
        "* Todos os agentes tem o mesmo desejo de consumo dado por um vetor\n",
        "global $\\boldsymbol{c}=\\left(1/c_{1},\\dots,1/c_{L}\\right)=\\left(C_{1},\\dots,C_{L}\\right)$.\n",
        "* Cada agente $i$ tem um vetor de deficit de consumo inicializado\n",
        "como $\\boldsymbol{d}_{i}=0$.\n",
        "* De modo anláloga a produção, a cada $c_{j}$ passos é incrementado o elemento\n",
        "$\\boldsymbol{d}_{i}\\left[j\\right]$ em $1$, ou seja a cada passo seu\n",
        "desejo aumenta em $C_{j}=1/c_{j}$ unidade.\n",
        "\n",
        "Então a cada passo o ator $i$ consome uma quantidade  mercadorias dada pelo vetor $\\boldsymbol{o}_{i}=\\text{min}\\left(\\boldsymbol{e}_{i},\\boldsymbol{d}_{i}\\right)$.\n",
        "Ou seja, por exemplo, pra mercadoria $j=1$ se o agente não tem nenhuma\n",
        "unidade dela $e_{i}\\left[1\\right]=0$ e ele não pode consumir. Ou\n",
        "se não tem desejo $d_{i}\\left[1\\right]=0$, também não irá consumir.\n",
        "Se em ambos os casos o valor não é 0, caso ele tenha mais bens do\n",
        "que deseje consumir $e_{i}\\left[1\\right]>d_{i}\\left[1\\right]$, então\n",
        "ele vai consumir só o que deseja $d_{i}\\left[1\\right]$. Se ele ter\n",
        "menos bens do que deseja consumir $e_{i}\\left[1\\right]<d_{i}\\left[1\\right]$\n",
        "vai consumir tudo que tem $e_{i}\\left[1\\right]$. De toda forma o\n",
        "que ele vai consumir vai ser dado pelo menor valor $o_{i}\\left[1\\right]=\\text{min}\\left(e_{i}\\left[1\\right],d_{i}\\left[1\\right]\\right)$.\n",
        "\n",
        " Evidentemente essa quantidade precisa ser descontada do deficit e\n",
        "das mercadorias em posse, logo atualizamos os vetores $\\boldsymbol{e}'_{i}=\\boldsymbol{e}_{i}-\\boldsymbol{o}_{i}$\n",
        "e $\\boldsymbol{d}'_{i}=\\boldsymbol{d}_{i}-\\boldsymbol{o}_{i}$.\n",
        "\n",
        "\n",
        "**Coeficiente de reprodução** $\\eta=\\sum\\frac{l_{j}}{c_{j}}=\\sum\\frac{C_{j}}{L_{j}}$:\n",
        "* $\\eta=1$ significa que a produção é igual o consumo: A simulação\n",
        "vai adotar essa condição.\n",
        "* $\\eta>1$ significa que a economia esta permanentemente em déficit.\n",
        "* $\\eta < 1$ a economia tem permanentemente uma produção extra.\n",
        "\n",
        "Como sob nenhuma hipótese temos $c_{j}<0$ ou $l_{j}< 0$, para que\n",
        "evitar que $\\eta>1$ então nehum termo  pode ser $\\frac{l_{j}}{c_{j}}>1$.\n",
        "Se tivermos mais de uma mercadoria, então precisamos ser\n",
        "ainda mais restritivos e exigir que $\\frac{l_{j}}{c_{j}}< 1$. Ou seja, deve levar menos passos pra produzir um produto, do que para desejá-lo. Isto é uma condição necessária para obtermos estabilidade, uma vez que cada agente produz uma única mercadoria por vez, mas consome todas.\n",
        "\n",
        "Se temos então duas mercadorias, dois atores e cada um produz\n",
        "uma mercadoria com os valores $l_{j}=1$ e $c_{j}=2$, então $\\eta=0.5+0.5=1$\n",
        "e a cada dois passos cada agente deseja uma mercadoria de cada tipo\n",
        "e produziu 2 de cada tipo, dividndo essas duas mercadorias entre os\n",
        "dois agentes, então todas mercadorias são consumidas e os desejos\n",
        "satisfeitos a cada dois passos."
      ],
      "metadata": {
        "id": "AsErYO4Uv1r5"
      }
    },
    {
      "cell_type": "markdown",
      "source": [
        "\n",
        "\n",
        "### Regra do preço $O_{1}$\n",
        "\n",
        "* O preço da mercadoria $j$ de acordo com o ator $i$ é um valor\n",
        "$p_{j}^{i}$ que é obtido aleatoriamente no intervalo $\\left[0,m_{i}\\right]$.\n"
      ],
      "metadata": {
        "id": "ExE4MaNQwCH_"
      }
    },
    {
      "cell_type": "markdown",
      "source": [
        "\n",
        "### Regra do mercado $M_{1}$:\n",
        "\n",
        "O mercado de determinada mercadoria é considerado \"resolvido\" quando\n",
        "não há mais compradores ou vendedores para uma determinada mercadoria,\n",
        "ou colocando de outra forma, não estar resolvido implica que há compradores\n",
        "e vendedores. Então começamos com um conjunto de $C$ de mercadorias\n",
        "que não foram resolvidas no mercado:\n",
        "\n",
        "1. Selecionamos uma mercadoria $j$ aleatoriamente do conjunto $C$;\n",
        "\n",
        "2. Selecionamos um agente vendedor $s$ aleatoriamente do conjunto\n",
        "de vendedores potenciais: Isto é, agentes que possuem mais mercadorias\n",
        "do que desejam consumir, $e_{i}\\left[j\\right]>d_{i}\\left[j\\right]$.\n",
        "\n",
        "3. Selecionamos um agente comprador $b$ aleatoriamente do conjunto\n",
        "de compradores potenciais: Isto é, agentes que possuem menos mercadorias\n",
        "do que desejam consumir, $e_{i}\\left[j\\right]<d_{i}\\left[j\\right]$.\n",
        "\n",
        "4. Se não havia potencial comprador ou vendedor, removemos a mercadoria\n",
        "$j$ de $C$. Se havia, chamamos a regra $\\boldsymbol{E}_{1}$ de\n",
        "troca.\n",
        "\n",
        "5. Repetimos os passos anteriores até que todas as mercadorias estejam\n",
        "resolvidas."
      ],
      "metadata": {
        "id": "2T5tknTVv8DG"
      }
    },
    {
      "cell_type": "markdown",
      "source": [
        "### Regra da troca $E_{1}$\n",
        "\n",
        "A regra anterior encontra compradores e vendedores pra fazer a troca condicional definida por essa regra.\n",
        "\n",
        "* Uma vez que temos comprador $b$ e vendedor $s$ que estimam os\n",
        "preços $p_{j}^{b}$ e $p_{j}^{s}$ para a mercadoria $j$, então retiramos\n",
        "um preço pra mercadoria do intervalo discreto $\\left[p_{j}^{b},p_{j}^{s}\\right]$:\n",
        "\n",
        "* Se o comprador tem dinheiro suficiente , a troca é realizada: o\n",
        "comprador perde dinheiro e ganha uma unidade de mercadoria, e o vendedor\n",
        "ganha dinheiro e perde uma unidade de mercadoria."
      ],
      "metadata": {
        "id": "iS4QK1fiwTvc"
      }
    },
    {
      "cell_type": "markdown",
      "source": [
        "### Regra do setor $S_{1}$\n",
        "\n",
        "* Vamos definir o conjunto $A_{j}=\\left\\{ i:1\\leq i\\leq N,A\\left(i\\right)=j\\right\\} $ que\n",
        "reúne os agentes $i$ que produzem $j$, isto é os agentes no qual\n",
        "$A\\left(i\\right)=j$\n",
        "* Definimos então o conjunto  $\\boldsymbol{D}=\\left[A_{1},\\dots A_{L}\\right]$ que nos\n",
        "dá como os atores estão distribuídos na produção de mercadorias.\n",
        "\n",
        "\n",
        "Então após uma quantidade fixa de tempo, considerando que estamos no período $n$ cada agente calcula um vetor\n",
        "erro $\\left\\Vert \\boldsymbol{d}_{i}^{n}\\right\\Vert $ e compara com o mesmo vetor calculado em um período anterior $\\left\\Vert \\boldsymbol{d}_{i}^{n-1}\\right\\Vert $. Se o erro aumentou, $\\left\\Vert \\boldsymbol{d}_{i}^{n}\\right\\Vert >\\left\\Vert \\boldsymbol{d}_{i}^{n-1}\\right\\Vert $\n",
        "então ele troca de mercadoria a ser produzida de forma aleatoria."
      ],
      "metadata": {
        "id": "jq82BCy5wmYY"
      }
    },
    {
      "cell_type": "markdown",
      "source": [
        "\n",
        "\n",
        "### Regra de simulação $R_{1}$\n",
        "Todo o ciclo de produção, consumo,\n",
        "troca e realocação na produção segue esta regra. Inicialmente construímos\n",
        "$\\boldsymbol{I}$ e $\\boldsymbol{c}$ de forma que $\\eta=1$ e alocamos\n",
        "$M/N$ entre todos atores. Então:\n",
        "* Aumentamos o tempo da simulação em um passo.\n",
        "* Invocamos a regra $P_{1}$ para cada agente.\n",
        "* Invocamos a regra $C_{1}$ para cada agente.\n",
        "* Invocamos a regra do mercado $M_{1}$.\n",
        "* Invocamos a regra $S_{1}$ para cada agente.\n",
        "* Repetimos.\n",
        "Ou seja:\n",
        "\n",
        "$$ SCE=\\left\\{ R_{1},P_{1},C_{1},O_{1}\\left\\{ M_{1},E_{1}\\right\\} ,S_{1}\\right\\}  $$\n",
        "\n",
        "Os parâmetros, segundo o livro são:\n",
        "* $N$ números de atores.\n",
        "* $L$ número de mercadorias.\n",
        "* $M$ quantidade de moedas na simulação.\n",
        "* $R$ o tempo máximo possível de consumo, usado pra restringir a construção dos vetores $\\boldsymbol{l}$ e $\\boldsymbol{c}$. Vale destacar que os vetors $\\boldsymbol{l}$ e $\\boldsymbol{c}$ contém o inverso do\n",
        "tempo, ou seja, o tempo máximo de consumo, será o valor máximo possível.\n",
        "para $c_{i}$ mas então o mínimo possível para $C_{i}$ que\n",
        "são as componentes do vetor $\\boldsymbol{c}$.\n",
        "* $C$ é uma constante múltipla do $R$ e é um parâmetro que define a duração do período entre a aplicação da regra $S_1$ de troca setores."
      ],
      "metadata": {
        "id": "f1UxNkaxf9E1"
      }
    },
    {
      "cell_type": "markdown",
      "source": [
        "## Divisão do trabalho\n",
        "\n",
        "**Definição 1**: Uma divisão do trabalho é eficiente quando para\n",
        "cada mercadoria o número de mercadorias sendo produzidas é igual a demanda.\n",
        "\n",
        "Então a quantidade total de mercadorias $j$ que são demandadas por\n",
        "passo é $NC_{j}$. Se temos uma fração $\\alpha N$ de agentes produzindo\n",
        "mercadoria $j$, a cada unidade de tempo é produzido $a_{j}NL_{j}$.\n",
        "Para obtermos uma divisão eficiente do trabalho:\n",
        "\n",
        "\\begin{equation}\n",
        "a_{j}NL_{j}=NC_{j}\\quad\\rightarrow a_{j}=\\frac{C_{j}}{L_{j}}=\\frac{l_{j}}{c_{j}}\n",
        "\\end{equation}\n",
        "\n",
        "Ou seja, $a_{j}$ é uma eficiente divisão do trabalho."
      ],
      "metadata": {
        "id": "B9NHVudswR5_"
      }
    },
    {
      "cell_type": "markdown",
      "source": [
        "\n",
        "\n",
        "## Preços objetivos\n",
        "\n",
        "Começamos com duas definições:\n",
        "* O preço médio da mercadoria $j$ é dado por $\\left\\langle p_{j}\\right\\rangle $,\n",
        "e temos o vetor $\\boldsymbol{p}=\\left(\\left\\langle p_{1}\\right\\rangle ,\\dots,\\left\\langle p_{L}\\right\\rangle \\right)$.\n",
        "* Os valores, isto é, a quantidade de tempo embutida na produção das\n",
        "mercadorias são $\\boldsymbol{v}=\\left(l_{1},\\dots,l_{L}\\right)$.\n",
        "\n",
        "Então se o preço gravita em torno do valor, se ele é proporcional\n",
        "ao valor, podemos escrever:\n",
        "\n",
        "\\begin{equation}\n",
        "\\boldsymbol{p}\\approx  \\lambda\\boldsymbol{v}\n",
        "\\end{equation}\n",
        "\n",
        "\n",
        "\n",
        "Onde $\\lambda$ tem unidade de 'moedas por unidade de de tempo de trabalho'.\n",
        "Como nossa economia é simples, podemos definir então a Expressão Monetária do Tempo-Trabalho (MELT\n",
        "em inglês), como a razão entre a medida da quantidade total de mercadorias trocadas em um intervalo de tempo medida  a preços correntes e o trabalho produtivo gasto na produção destas mercadorias.Ou seja, o MELT é simplesmente:\n",
        "\n",
        "\\begin{equation}\n",
        "\\lambda = \\frac{\\gamma M}{\\sum l_{i}v_{i}}\n",
        "\\end{equation}\n",
        "\n",
        "\n",
        "\n",
        "Analisando:\n",
        "* O denominador é trabalho despendido nas mercadorias que são trocadas em um determinado tempo'. Onde\n",
        "$v_{i}$ é a velocidade média de troca de uma mercadoria $j$. Então\n",
        "temos um somatório onde cada termo corresponde ao o trabalho envolvido nas trocas de cada tipo de mercadoria. Por exemplo se olharmos pra mercadoria\n",
        "$j=1$, e termos que ela é trocada $v_{1}=2$ vezes dentro do intervalo de tempo considerado, e essa mercadoria\n",
        "ter um valor de $l_{1}=2$, isto é, leva 2 passos pra ser feito, então\n",
        "temos que o trabalho despendido trocado via mercadoria $j=1$ dentro do intervalo considerado é $v_{1}l_{1}=2\\cdot2=4$.\n",
        "* O numerador é a quantidade de moedas que é trocado em um determinado intervalo de tempo via troca de mercadorias. Onde $\\gamma$ é simplesmente a proporção\n",
        "do dinheiro que é trocado por unidade de tempo, então $\\gamma M$\n",
        "é a velocidade do dinheiro, ou seja, quanto dinheiro é trocado dentro do intervalo de tempos que estamos considerando.\n",
        "\n",
        "De forma resumida, temos:\n",
        "\n",
        "\\begin{equation}\n",
        "\\lambda=\\frac{\\text{quanto dinheiro é trocado por unidade de tempo}}{\\text{quanto tempo tempo de trabalho é trocado por unidade de tempo}}=\\frac{\\gamma M}{\\sum l_{i}v_{i}}\n",
        "\\end{equation}\n",
        "\n",
        "Evidentemente só nos preocupamos com as mercadorias que são trocadas e não com a produção como um todo, estamos analisando o mercado, é digno de menção que neste modelo as mercadorias só tem um preço no momento da troca, enquanto o valor delas é dado pelas características técnicas de produção de toda sociedade."
      ],
      "metadata": {
        "id": "zRxnVvwccNjV"
      }
    },
    {
      "cell_type": "markdown",
      "source": [
        "## Simulação\n",
        "\n",
        "Abaixo vou compartilhar um código que eu fiz baseado no modelo, a notação pode ser levemente diferente pois eu não escrevi o código no mesmo tempo que escrevi este resumo. Eu\n",
        "não estou trazendo todos os resultados apresentados no livro, pois desejo dar ênfase no MELT. Mas antes alguns comentários precisam ser feitos:\n",
        "\n",
        "- Apesar de que eu busquei respeitar a definição de que $C$ deve ser múltiplo de $R$ não vejo nada que exija isso. Porém concordo com a ideia de que devemos ter $C>R$ para dar tempo de que os agentes produzam e consumam as mercadorias antes de trocarem de setor.\n",
        "- Em nenhum momento é dito se o dinheiro é inteiro ou não. Apenas é mencionado que o intervalo do qual retiramos os preços é discreto, sendo assim, eu optei por utilizar inteiros.\n",
        "- Estou introduzindo um novo parâmetro $G$ que define a duração do período no qual vamos coletar dados. No apêndice é dito que após o sistema atingir o equilíbrio, então executa-se a simulação por mais $G=5000$ passos para coletar os dados que serão utilizados, ou assin entendi.\n",
        "- A regra de trocas pode tornar a execução demasiadamente lenta. Se utilizarmos um dinheiro contínuo ou inteiros que se aproximem disso ($M \\gg N$), a execução pode ficar lenta pois o modelo não avança até que compradores e vendedores entrem em acordo para resolver o mercado. Porém se um comprador tem riqueza próxima a $m_a \\approx 0$, o preço da mercadoria definida pela regra $O_1$ precisa ser próximo de $0$ para que o agente consiga comprar, e tanto menor será a probabilidade disso acontecer quanto maior for a riqueza do vendedor. No apêndice o livro menciona a implementação de um limite na quantidade de vezes que cada agente pode ir no mercado. Não é detalhado se é um limite de tentativas totais ou de tentativas fracassadas.\n",
        "-  Na implementação da regra $S_1$ de mudança de setor, não fica claro como o vetor $\\boldsymbol{d}_{i}^{\\left(n\\right)}$ é construído. Se ele é apenas o vetor $\\boldsymbol{d}_{i}$ no final do período, se é um vetor análogo porém zerado no começo do período e utilizado apenas na implementação desta regra, ou qualquer outra alternativa.\n",
        "- Também na implementaçã oda regra $S_1$ eu suponho que o agente pode aleatoriamente sortear continuar no mesmo setor.\n",
        "- Aumentar o tamanho do sistema $N$ aumenta o custo computacional, mas me parece que aumenta ainda mais com o aumento da quantidade de tipos de mercadorias $L$ no sistema. O próprio livro discute até um máximo de $L=10$ e menciona que acima desta configuração não havia memória disponível no hardware utilizado.\n",
        "- O livro apresenta exatamente a relação linear com a reta passando na origem entre valor e preço, mesmo pra $N=200$ e $L=3$, eu obtive relação linear, mas com a reta não passando na origem.\n",
        "- Não é discutido o que acontece se na aplicação da regra $E_1$, a oferta do vendedor $p_j^{(s)}$ for maior que a do comprador $p_j^{(b)}$, se retiramos ainda um valor do intervalo, ou fazemos $p_j^{(b)}=p_j^{(s)}$.\n",
        "- Na aplicação da regra $O_1$, é permitdo que a mercadoria tenha um preço $p=0$. Mas precisamos que ele tenha um preço pra associar ao valor. Se trabalharmos com contínuo é improvável sortearmos 0, mas com inteiros, não necessariamente."
      ],
      "metadata": {
        "id": "CGktTyWWb9zj"
      }
    },
    {
      "cell_type": "markdown",
      "source": [
        "Um algoritmo possível para a construção dos vetires $l$ e $c$ vetores é o seguinte:\n",
        "Primeiro gerar dois vetores aleatórios $\\boldsymbol{l}=\\left(L_{1},\\cdots,L_{L}\\right)$ e\n",
        "$\\boldsymbol{u}=\\left(u_{1},\\cdots,u_{L}\\right)$, fazemos o somatório\n",
        "$\\sum_{i}^{L}\\frac{u_{j}}{L_{j}}=F$, então se dividimos os dois lados\n",
        "por $A$:\n",
        "\n",
        "\\begin{equation}\n",
        "\\sum_{i}^{L}\\frac{1}{F}\\frac{u_{j}}{L_{j}}=\\frac{F}{F}\\rightarrow\\sum_{i}^{L}\\frac{u_{j}/F}{L_{j}}=1=\\sum_{i}^{L}\\frac{C_{j}}{L_{j}}\n",
        "\\end{equation}\n",
        "\n",
        "Ou seja, os elementos do vetor $\\boldsymbol{c}$ são $C_{j}=\\frac{u_{j}}{F}$,\n",
        "ou ainda $\\boldsymbol{c}=\\frac{\\boldsymbol{u}}{F}$."
      ],
      "metadata": {
        "id": "e-fBbgex5xUL"
      }
    },
    {
      "cell_type": "markdown",
      "source": [
        "Dito tudo isso, eu optei por definir a mão os valores de $l$ e $c$ para que possamos analisar melhor o resultado da simulação. Um exercício que fiz e acredito ser interessante ao leitor, é definir desde o começo a distribuição idela de trabalhadores entre os setores e observar o quão estável é o ritmo da troca de mercadorias desta sociedade em equilíbrio."
      ],
      "metadata": {
        "id": "LDR38uOCCRMj"
      }
    },
    {
      "cell_type": "markdown",
      "source": [
        "O modelo funciona bem pra L=2 Apesar do livro advogar funcionar até para L=10, ainda não consegui fazer para L>2. Até que parece funcionar echar uma relação linear (coeficiente de pearson) se N suficientemente grande (ex.: N=500). Mas a relação direta eu so congiver pra L=2. O que é um problema pois a figura 9.5 supostamente demonstra a relação direta entre valor e preço pra L=10. Devo ter entendido algo errado.\n",
        "\n",
        "artigos:\n",
        "- https://citeseerx.ist.psu.edu/document?repid=rep1&type=pdf&doi=0eb5e58747f02ae800f3ee777fc23eb6ad4c5479\n",
        "- http://gesd.free.fr/wrightrpe.pdf"
      ],
      "metadata": {
        "id": "O2QuA1rFBi2g"
      }
    },
    {
      "cell_type": "code",
      "source": [],
      "metadata": {
        "id": "JOGnA0c9B7iF"
      },
      "execution_count": null,
      "outputs": []
    }
  ]
}