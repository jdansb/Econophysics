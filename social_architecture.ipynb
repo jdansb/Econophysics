{
  "nbformat": 4,
  "nbformat_minor": 0,
  "metadata": {
    "colab": {
      "provenance": [],
      "authorship_tag": "ABX9TyNQ/zLHM1WEhQ469g0JzCmS",
      "include_colab_link": true
    },
    "kernelspec": {
      "name": "python3",
      "display_name": "Python 3"
    },
    "language_info": {
      "name": "python"
    }
  },
  "cells": [
    {
      "cell_type": "markdown",
      "metadata": {
        "id": "view-in-github",
        "colab_type": "text"
      },
      "source": [
        "<a href=\"https://colab.research.google.com/github/jdansb/Econophysics/blob/main/social_architecture.ipynb\" target=\"_parent\"><img src=\"https://colab.research.google.com/assets/colab-badge.svg\" alt=\"Open In Colab\"/></a>"
      ]
    },
    {
      "cell_type": "markdown",
      "source": [
        "# Arquitetura social do capitalismo\n",
        "\n",
        "Eu não quero escrever muito sobre esse modelo, porque eu quero que vocês acessem meu artigo:[Inequality in a model of capitalist economy](https://arxiv.org/abs/2410.22369). Além dele é recomendado:\n",
        "- [The social architecture of capitalism](https://www.sciencedirect.com/science/article/abs/pii/S0378437104010726): O artigo original foi proposto o modelo (que também consta no capítulo 13 do livro Classical Econophysics).\n",
        "- [Agent-Based Models, MacroeconomicScaling Laws and Sentiment Dynamics](macau.uni-kiel.de/servlets/MCRFileNodeServlet/dissertation_derivate_00004144/thesis_linlin.pdf): Tese que discute o modelo e algumas modificações.\n",
        "- [Implicit Microfoundations for Macroeconomics](https://papers.ssrn.com/sol3/papers.cfm?abstract_id=1726698#): Uma modificação proposta pelo próprio Ian Wright.\n",
        "\n",
        "Mas posso dizer que de forma geral, o resultado central deste modelo é que a estrutura desigual da distribuição de riqueza que emerge nas sociedades capitalistas é uma característica intrínseca de como o capitalismo organiza a produção e distribuição das mercadorias."
      ],
      "metadata": {
        "id": "QDZAn14D2j-Z"
      }
    },
    {
      "cell_type": "markdown",
      "source": [
        "The search of a first-principle model capable of elucidating the emergence and robustness of Pareto's law~\\cite{pareto} in various contexts is a central challenge in the field of Econophysics. Such a model would provide a fundamental understanding of the mechanisms that drive these distributions, transcending mere empirical observations to reveal the possible underlying principles.\n",
        "\n",
        "In his seminal work ``The Social Architecture of Capitalism'' \\cite{WRIGHT2005589},  Ian Wright explores the intricate dynamics that results in the self-organization of a capitalist society with a given distribution of wealth among its members. Using an agent-based model known as Social Architecture (SA) model, Wright provides a theoretical framework aiming to explain the ubiquitous presence of Pareto's law, which reflects that a small percentage of a population controls a large portion of a particular resource such as wealth or income. Wright's work offers insights into how individual interactions and institutional structures collectively shape economic distributions.  "
      ],
      "metadata": {
        "id": "aOoq5Ete4DWh"
      }
    },
    {
      "cell_type": "markdown",
      "source": [
        "## Model\n",
        "\n",
        "The model implemented in this paper is the original SA proposed by Ian Wright~\\cite{WRIGHT2005589}. However, we have chosen a slightly different notation and terminology to align with those commonly used in econophysics and agent-based modeling.\n",
        "The society consists of $N$ agents (labeled $i=1,\\dots,N$)~\\footnote{An agent is not necessarily an individual, but can represent other economic entities.}, where each agent $i$ has a positive integer quantity $w_i(t)$ representing wealth~\\footnote{Wealth is defined as amount of money, assets or goods that can be eventually transformed into money, owned by each person in a population.}, which varies over time~\\footnote{While this quantity does not need to be an integer, we follow the original proposal, as this distinction is not critical to our analysis.}.\n",
        "%\n",
        "The population size $N$ and the total wealth of the system $W= \\sum_{i=1}^N w_i(t)$ are conserved, so the wealth per capita $\\overline{w}=W/N$ is constant.\n",
        "Agents can be in one of three classes: employees (working class), employers (capitalist class), or unemployed.\n",
        "Then, each agent is characterized by an index $e_i\\neq i$, which identifies their employer: $e_i = j$ if agent $j$ is the employer of agent $i$, and $e_i = 0$ if agent $i$ is unemployed or employer.\n",
        "Therefore, at any time $t$,  the state of the entire economy is defined by the set of pairs $S(t) = \\left\\{ \\left( w_i(t), e_i(t) \\right) :1\\leq i\\leq N \\right\\}$.\n",
        "%\n",
        "A firm  consists of a set of employees and an employer, which is the only owner of the firm.\n",
        "\n",
        "In addition to the system size $N$ and the wealth per capita $\\overline{w}$, there are two other parameters:\n",
        "the minimum and maximum wages, $p_a$ and $p_b$, that each employee can receive. These four are the only parameters of the model.\n",
        "Random selections (of agents, wealth aliquots, wages, etc.) are made uniformly, unless otherwise specified.\n",
        "\n",
        "In the initial state, all agents have the same wealth ($w_i(0)={W}/N$) and are all unemployed ($e_i(0)=0$).\n",
        "At each time step (which we set to be a month as in the original paper), the following six steps are executed $N$ times, to give each agent the opportunity to be active once per month on average.\n",
        "\n",
        "\n",
        "\\begin{enumerate}[leftmargin=*]\n",
        "%\n",
        "\\item  \n",
        "{\\bf Agent selection --}\n",
        "An agent $i$ is randomly selected.\n",
        "Then, the following rules are applied, being 3, 4 and 6 related to wealth exchanges, while rules 2 and 5 are related to changes of status.  \n",
        "%\n",
        "\\item {\\bf Hiring --} Only if $i$ is unemployed, then:\n",
        " %\n",
        "\\begin{enumerate}[leftmargin=*]\n",
        " \\item A potential employer $j$ is selected from the set $H$  of all agents except the employees, with probability  $P (j)= w_{j}/\\sum_{n\\in H}w_{n}$.\n",
        "\n",
        "\\item   If $ w_j \\ge \\overline{p}$  (average of the distribution from which the wage (salary) is drawn), then:\n",
        "the agent $i$ is hired by $j$.   \n",
        "Hence $j$ becomes an employer if it was previously unemployed.\n",
        "\n",
        "\\end{enumerate}\n",
        "%\n",
        "\\item  \n",
        "{\\bf  Expenditure} (on goods and services) --\n",
        " A random integer $w$ in the range $\\left[0,w_{k}\\right]$ is selected for a random agent $k\\neq i$.\n",
        " Then, the following transfer to the market value $V$ occurs:\n",
        " \\begin{equation} \\notag\n",
        " w_k  \\to w_k-w, \\quad V \\to V+w.\n",
        " \\end{equation}\n",
        "%\n",
        "\\item\n",
        "{\\bf Market revenue} (from sales of goods and services) -- Only if $i$ is not unemployed, the following transfer from the market value occurs:   \n",
        "%\n",
        "\\begin{eqnarray}   \\notag\n",
        "   && \\;\\;\\;\\;\\;V \\to V-w, \\\\  \\notag\n",
        "%   \n",
        "&& \\begin{cases}\n",
        "  w_i\\to w_i+w ,         &\\mbox{if  $i$ is employer,}\\\\\n",
        "  w_{e_i}\\to w_{e_i}+w , &\\mbox{if  $i$ is employee,}\n",
        "\\end{cases}\n",
        "\\end{eqnarray}\n",
        "%\n",
        "where $w$ is a random integer number $w\\in \\left[0,V\\right]$. In all cases,  the quantity $w$ is counted as firm revenue $r_i$.\n",
        "\n",
        "\\item {\\bf Firing --} Only if \\textit{i} is an employer, then:\n",
        "\n",
        "\\begin{enumerate}[leftmargin=*]\n",
        "    \\item The number $m$ of employees to be fired is defined according to the  formula\n",
        "$ m=max(n_{i}-\\frac{w_{i}}{\\overline{p}},0)$,\n",
        "where $n_i$ is the number of employees of agent $i$.\n",
        "\n",
        "    \n",
        "\\item A number $m$ of agents from the list of $i$'s employees are randomly selected to be fired.\n",
        "\n",
        "\\item\n",
        "Furthermore,\n",
        "if all the workers are fired, then the employer $i$ becomes an unemployed.\n",
        "\n",
        "\n",
        "\\end{enumerate}\n",
        "\\item\n",
        "{\\bf Wage payment --} Apply only when agent $i$ is an employer.\n",
        "For each agent $j$ employed by $i$, the following transfer occurs  \n",
        "\\begin{center}  \n",
        "  $w_i  \\to w_i-p$,  \\\\\n",
        "  $w_j  \\to w_j+p$,\n",
        "\\end{center}\n",
        "where $p$ is a discrete amount  \n",
        "randomly selected from the interval $[p_a,p_b]$, but\n",
        "if $p > w_i$, then a new wage $p$ is selected from the interval $[0,w_i]$.\n",
        "  \n",
        "\n",
        "\n",
        "\\end{enumerate}"
      ],
      "metadata": {
        "id": "PHMsreis35gZ"
      }
    }
  ]
}