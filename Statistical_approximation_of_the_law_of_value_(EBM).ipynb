{
  "nbformat": 4,
  "nbformat_minor": 0,
  "metadata": {
    "colab": {
      "provenance": [],
      "authorship_tag": "ABX9TyMRFe/mbqkCti2zlcHP34Rv",
      "include_colab_link": true
    },
    "kernelspec": {
      "name": "python3",
      "display_name": "Python 3"
    },
    "language_info": {
      "name": "python"
    }
  },
  "cells": [
    {
      "cell_type": "markdown",
      "metadata": {
        "id": "view-in-github",
        "colab_type": "text"
      },
      "source": [
        "<a href=\"https://colab.research.google.com/github/jdansb/Econophysics/blob/main/Statistical_approximation_of_the_law_of_value_(EBM).ipynb\" target=\"_parent\"><img src=\"https://colab.research.google.com/assets/colab-badge.svg\" alt=\"Open In Colab\"/></a>"
      ]
    },
    {
      "cell_type": "markdown",
      "source": [
        "# Statistical Approximation of the Law of Value\n",
        "\n",
        "This model is presented in chapter 9 of the book *Classical Econophysics* and also as the paper: [*The Emergence of the Law of Value in a Dynamic Simple Commodity Economy*](https://doi.org/10.1080/09538250701661889).   "
      ],
      "metadata": {
        "id": "Rd_ORrqdvMvU"
      }
    },
    {
      "cell_type": "markdown",
      "source": [
        "## Equação do Trabalho\n",
        "\n",
        "De certa forma, esse trabalho continua a discussão iniciada na [seção anterior](https://github.com/jdansb/Econophysics/blob/main/aproximacao_estatistica_da_lei_do_valor_ABM.ipynb), porém agora ao invés de um modelo baseado em agentes, temos um modelo baseado em equações. Vamos então seguir utilizando as notações matemáticas apresentadas anteriormente e definir algumas novas.\n",
        "\n",
        "- A velocidade do dinheiro é dado por $\\gamma M$ onde $\\gamma$ é uma constante entre 0 e 1.\n",
        "- O vetor $\\boldsymbol{b}\\left(t\\right)=\\left(b_{1},\\dots,b_{L}\\right)$ é de tal modo que cada elemento $b_j$ representa a fração instantânea (isto é, no instante t) do fluxo total dinheiro que está sendo recebido pelo setor j.\n",
        "- Evidentemente se somarmos sobre todos os setores devemos ter $\\sum b_{j}=1$.\n",
        "\n",
        "Se a velocidade de dinheiro $\\gamma M$ é a quantidade de dinheiro total em circulação em um instante $t$, $b_j$ é a fração dessa quantidade no setor $j$, evidentemente a quantidade total de dinheiro que o setor $j$ está recebendo é dado pelo produto $b_j \\gamma M$.\n",
        "\n",
        "O vetor $\\boldsymbol{a}\\left(t\\right)=\\left(a_{1},\\dots,a_{L}\\right)$ é definido de tal modo onde cada elemento $a_j$ representa a fração atual de trabalhadores alocado no setor $j$.\n",
        "\n",
        "Vamos usar o preço médio $\\left\\langle p_{j}\\right\\rangle$ da mercadoria para aproximar a distribuição de preços. Aproximando que a cada passo, cada agente consome $1/c_j$ da mercadoria $j$, e que seu preço é $\\left\\langle p_{j}\\right\\rangle$, então o custo em preço corrente do consumo a cada passo por agente é $\\sum\\left\\langle p_{j}\\right\\rangle /c_{j}$.\n",
        "\n",
        "Vamos considerar que os agentes trocam de setor levando em conta um sinal indicado pelos preços. Cada setor tem uma taxa de gasto ideal que representa a quantidade de dinheiro que é necessária ser gasta para que os agentes empregados neste setor satisfaçam suas necessidades. Isso vai se dar pelo produto entre o consumo individual calculado anteriormente e a quantidade de agentes atual trabalhando no setor ($a_j N$), ou seja $a_j N \\sum\\left\\langle p_{j}\\right\\rangle /c_{j}$ . Então o fluxo, ou erro na taxa de rendimento do setor vai ser dado pela diferença entre o dinheiro total  que entra no setor j e o consumo ideal:\n",
        "\n",
        "$$\\phi_{j}\\left(t\\right)=b_{j}\\gamma M-a_{j}N\\sum_{k=1}^{L}\\frac{\\left\\langle p_{k}\\right\\rangle} {c_{k}}$$"
      ],
      "metadata": {
        "id": "hE-0AKsBqoq1"
      }
    },
    {
      "cell_type": "markdown",
      "source": [
        "Evidentemente $\\phi_{j}>0$ implica que o setor tem lucro, isto é, o setor recebe mais dinheiro do que os agentes que trabalham nele precisam para satisfazer seus consumos. Por outro lado, $\\phi_{j} < 0$ implica em um déficit e $\\phi_{j}=0$ é o equilibrio ideal. Vamos aproximar que a troca de setores dos agentes ($da_j/dt$) é proporcional a $\\phi_{j}$. Por exemplo se temos um déficit, significa que o setor não têm rendimento suficiente, então os agentes sairão do setor em busca de outro setor que tenha lucro e seja capaz de absorvê-los. Ou seja $da_j/dt=\\psi \\phi_j(t)$, onde $\\psi$ é uma constante positiva que regula o quão intensa ocorre a troca de setores.\n",
        "\n",
        "Esta é a equação de trabalho, ela define como a alocação do trabalho em diferentes setores de produção varia de acordo com o rendimento recebido pelo setor devido a venda das mercadorias. Podemos escrever de forma mais completa:\n",
        "\n",
        "$$\\frac{da_{j}}{dt}=\\psi\\phi_{j}\\left(t\\right)=\\psi\\left(b_{j}\\gamma M-a_{j}N\\sum_{k=1}^{L}\\frac{\\left\\langle p_{k}\\right\\rangle}{c_{k}}\\right)$$\n",
        "\n",
        "Lembrando que o vetor sobre o consumo é dado por \\boldsymbol{p}=(p_{1},\\ldots,p_{L}), e que  definimos anteriormente um vetor de preços $\\boldsymbol{p}=(p_{1},\\ldots,p_{L})$, então $\\boldsymbol{c}\\cdot\\boldsymbol{p}=\\sum\\frac{\\left\\langle p_{k}\\right\\rangle }{c_{k}}$. Assim a equação do trabalho para toda economia pode ser escrita em notação vetorial como:\n",
        "\n",
        "$$\\frac{d\\boldsymbol{a}}{dt}=\\psi\\left(\\gamma M\\boldsymbol{b}-N\\left(\\boldsymbol{p}\\cdot\\boldsymbol{c}\\right)\\boldsymbol{a}\\right)$$\n",
        "\n",
        "Agora como um agente no setor $j$, a cada passo produz $1/l_j$ mercadoria (ela é produzida após $l_j$ passos), a produção total no setor é dada por $a_j N/l_j$. Se definirmos o preço médio da mercadoria $j$ como o resultado da divisão da renda do setor (conforme vimos antes dado por $b_j \\gamma M$) em relação a quantidade total dmercadorias, isto é, o dinheiro que entrou no setor pela venda de mercadorias, dividido pela quantidade de mercadorias produzidas, então o preço médio é:\n",
        "\n",
        "$$\\left\\langle p_{j}\\right\\rangle =\\frac{b_{j}\\gamma M}{\\frac{a_{j}N}{l_{j}}}=\\frac{b_{j}\\gamma Ml_{j}}{a_{j}N}=\\frac{\\gamma M}{N}\\frac{b_{j}}{a_{j}}l_{j}$$"
      ],
      "metadata": {
        "id": "rv2r4aYmvjv9"
      }
    },
    {
      "cell_type": "markdown",
      "source": [
        "## Equação do Dinheiro\n",
        "\n",
        "Queremos agora entender como a variação na renda depende da divisão do trabalho. Certamente a renda de um setor depende da quantidade de mercadorias produzidas. Como ninguém consome mais do que necessita, o consumo máximo corresponde a ‘demanda social’ de cada mercadoria $j$. Como a cada passo cada agente consome $1/c_j$ (a cada $c_j$ passos ela consome uma unidade de mercadoria), então a demanda social é dada por $N/c_j$. De modo análogo cada agente empregado no setor $j$ produz $1/l_j$, e como a quantidade de agentes no setor é dada por $a_j N$, então o total de mercadoria produzida no setor é $a_j N/l_j$. Dessa forma, análogo ao que fizemos anteriormente, o fluxo, ou o erro na produção dado pela diferença da quantidade de mercadoria produzida consumida é dada por:\n",
        "\n",
        "$$\\xi_{j}\\left(t\\right)=\\frac{a_{j}N}{l_{j}}-\\frac{N}{c_{j}}$$\n",
        "\n",
        "Evidentemente $\\xi_{j}>0$ é uma sobreprodução, e $\\xi_{j}< 0$ implica que não está sendo produzido o suficiente, enquanto  $\\xi_{j}=0$ denota um equilíbrio. Se assumirmos que quando há sobreprodução (subprodução) o preço cai (sobe), então a mudança de renda no setor é proporcional, mas negativamente a $\\xi_{j}$, isto é $db_j/dt=-\\omega \\xi_j(t)$, onde $\\xi_{j}$ é uma constante positiva para ajustar a intensidade com que o distribuição de renda reage ao erro na produção. Esta equação é conhecida como equação do dinheiro pois define como a alocação do dinheiro em diferentes setores varia de acordo com a sobreproducão ou subprodução de mercadorias. Ela pode ser escrita de forma mais completa como:\n",
        "\n",
        "$$\\frac{db_{j}}{dt}=-\\omega\\xi_{j}\\left(t\\right)=-\\omega N\\left(\\frac{a_{j}}{l_{j}}-\\frac{1}{c_{j}}\\right)$$\n",
        "\n",
        "Se definirmos uma matriz $A$ onde que os únicos elementos não zero são os elementos $a_{ii}$ na diagonal principal, e usando o vetor de produção $\\boldsymbol{l}=(1/l_1,...,1/l_L)$ como um vetor coluna, podemos escrever a equação do dinheiro para toda economia como:\n",
        "\n",
        "$$\\frac{d\\boldsymbol{b}}{dt}=-N\\omega\\left(\\boldsymbol{A}\\boldsymbol{l}-\\boldsymbol{c}\\right)$$\n",
        "\n",
        "Uma vez que o vetor de consumo é $\\boldsymbol{c}=(1/c_1,...,1/c_L)$.  Passaremos agora a investigar de que forma se dá o equilíbrio deste sistema formado pelas equações do trabalho e do dinheiro.\n",
        "\n"
      ],
      "metadata": {
        "id": "wBl6LbKUxqM3"
      }
    },
    {
      "cell_type": "markdown",
      "source": [
        "## Equilíbrio\n"
      ],
      "metadata": {
        "id": "aYlQbykYz1Xw"
      }
    },
    {
      "cell_type": "markdown",
      "source": [
        "## Conclusão"
      ],
      "metadata": {
        "id": "213IdHS_z3XM"
      }
    },
    {
      "cell_type": "code",
      "source": [],
      "metadata": {
        "id": "5XDWstqeqlIc"
      },
      "execution_count": null,
      "outputs": []
    }
  ]
}